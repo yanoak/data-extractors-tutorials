{
 "cells": [
  {
   "cell_type": "markdown",
   "metadata": {},
   "source": [
    "# Introduction"
   ]
  },
  {
   "cell_type": "markdown",
   "metadata": {},
   "source": [
    "This tutorial is the first in a series that will help you learn how to analyse data about the extractives industry using Python.\n",
    "\n",
    "We start off with a few FAQs before diving into the tutorial.\n",
    "\n",
    "### What are Python, R, Jupyter Notebooks, and Pandas?\n",
    " \n",
    "Python and R are the most widely used programming languages for data science. \n",
    " \n",
    "Python and R are just the languages, but you need a program on your computer where you can write, test, and run programs using those languages. For that purpose, you need a Development Environment, which is a program that lets you write, test and run code. For Python, the most popular Development Environment is called [Jupyter Notebooks](http://jupyter.org/) (which run right on a web browser), and for R, the most popular Development Environment is called [RStudio](https://www.rstudio.com/).\n",
    " \n",
    "On top of these languages, there are libraries which allows you to do specialised things. In Python, for example, the [Pandas library](http://pandas.pydata.org/) is the most widely used library for data analysis.\n",
    " \n",
    "### Why are they useful?\n",
    " \n",
    "- Used by professional data scientists\n",
    "- Open source\n",
    "- Huge communities that are constantly improving them\n",
    "- You can do pretty much anything you want to do with your data using R and Python\n",
    " \n",
    "### How are they better than Excel, Tableau, etc?\n",
    " \n",
    "- Everything you can do in Excel, Tableau, or other applications, you can probably do with Python and R\n",
    "- Python and R are both free to use unlike Excel, Tableau, etc\n",
    "- Repetitive tasks that get tedious in point and click software can be automated. For example, if you want to make 100 different charts in Excel, it will take forever. But if you write a script, you just have to write it once and you can keep running it as many times as you want\n",
    "- Because you are writing commands for every step, you have a record of exactly what you did, and that makes it easier to see if you have made any mistakes\n",
    "- It is also easier to share your work with others, and also to incorporate scripts that others have written into your work\n",
    " \n",
    "### What is the difference between R and Python?\n",
    " \n",
    "Python is a general purpose programming language, which means that in addition to doing data science, you can write anything in Python ranging from web apps to online games. People with a background in programming usually find Python to be easier to learn than R.\n",
    " \n",
    "R is a programming language that is especially made for data science. As a result you can’t write all kinds of things like games and apps with it, but it is awesome if you want to work on data. People coming from a data analysis or statistics background usually find R to be easier to learn than Python.\n",
    " \n",
    "In terms of working with data, such as wrangling, analysing, and visualising, both Python and R works great for pretty much anything you can think of.\n",
    "The two languages are very different in terms of style and syntax, but their functionality is very similar.\n",
    " \n",
    "### What do I need to get started?\n",
    " \n",
    "For this tutorial, we will just stick to Python, and we will just run it using an online version of Jupyter Notebooks that does not require installing anything on your computer. You can get started by going here: https://try.jupyter.org/\n"
   ]
  },
  {
   "cell_type": "markdown",
   "metadata": {},
   "source": [
    "-----------"
   ]
  },
  {
   "cell_type": "markdown",
   "metadata": {},
   "source": [
    "# Setting up Jupyter Notebooks"
   ]
  },
  {
   "cell_type": "markdown",
   "metadata": {},
   "source": [
    "The [link above](https://try.jupyter.org/) lets you try out Jupyter notebooks in a sandbox but it is much better to have it installed on your own computer.\n",
    "\n",
    "This tutorial won't get into the step-by-step instructions for installing Jupyter notebook on your computer, but there are already lots of great guides out there. \n",
    "\n",
    "### Windows Users\n",
    "\n",
    "If you are using windows [this video tutorial](https://www.youtube.com/watch?v=Q0jGAZAdZqM) will guide you through installing Jupyter notebooks. \n",
    "\n",
    "### Mac Users \n",
    "\n",
    "If you are using a mac [this video tutorial](https://www.youtube.com/watch?v=OOFONKvaz0A) will guide you through installing Jupyter notebooks. \n",
    "\n",
    "For **both Windows and Mac users**, If you prefer a written guide you can follow [this guide](https://jupyter.readthedocs.io/en/latest/install.html#new-to-python-and-jupyter) from the official Jupyter documentation too.\n",
    "\n",
    "The rest of the tutorial will assume that you have Jupyter notebooks up and running and you have a fresh new notebook open in your own computer inside a new folder where you want to put all the files related to this tutorial. It should look like this:\n",
    "\n",
    "> ![new notebook](https://github.com/yanoak/data-extractors-tutorials/blob/master/python-for-extractives/01_Intro_to_Python/img/new_notebook.png?raw=true)"
   ]
  },
  {
   "cell_type": "markdown",
   "metadata": {},
   "source": [
    "# Getting the data"
   ]
  },
  {
   "cell_type": "markdown",
   "metadata": {},
   "source": [
    "We will be reading in CSV files that are downloaded from the UK Companies House Extractives Website https://extractives.companieshouse.gov.uk/\n",
    "\n",
    "I have downloaded all the files for all the companies that have reported as of April 2017 for financial year 2015. I've added them all to the ['data' folder of the Github repo](https://github.com/yanoak/data-extractors-tutorials/tree/master/python-for-extractives/01_Intro_to_Python/data) that contains this tutorial. The easiest way to download all the data files as well as this tutorial is to go to the repo's main page and click on 'Download "
   ]
  },
  {
   "cell_type": "markdown",
   "metadata": {},
   "source": [
    "# What we will learn in this tutorial"
   ]
  },
  {
   "cell_type": "markdown",
   "metadata": {},
   "source": [
    "This tutorial is designed to give you a brief tour to the kinds of things that you can do using Python and Jupyter notebooks. Subsequent tutorials in this series will cover each topic more methodically but the current one is designed to show you an overview of the kinds of things that are possible.\n",
    "\n",
    "It is structured as follows:\n",
    "\n",
    "1. An **introduction to the Jupyter notebook envrionment**, and basic concepts such as markdown cells and code cells\n",
    "2. **Reading CSV files** and doing some basic data analysis\n",
    "3. **Combining data from a few CSV files** together to create a bigger dataset\n",
    "4. **Creating some simple charts** with the data\n",
    "5. As a demonstration of something you can easily do with Python but would be very difficult using tools like Excel, the last part of the tutorial will guide you through how you can **use Python to read an entire folder full of CSV files to combine them into a big dataset** and analyse them\n",
    "\n",
    "Now, onward to the actual tutorial!"
   ]
  },
  {
   "cell_type": "markdown",
   "metadata": {},
   "source": [
    "-----------"
   ]
  },
  {
   "cell_type": "markdown",
   "metadata": {},
   "source": [
    "# 1. A few basic things"
   ]
  },
  {
   "cell_type": "markdown",
   "metadata": {},
   "source": [
    "This tutorial itself is actually written in the form of a Jupyter notebook.\n",
    "\n",
    "So, welcome to your first Jupyter notebook! Let's get aquainted with some basic features.\n"
   ]
  },
  {
   "cell_type": "markdown",
   "metadata": {},
   "source": [
    "This is an example of a text (or Markdown) cell. Python ignores everything you write in these cells - they are not part of the sript\n",
    "\n",
    "Press \"shift + enter\" to execute each cell"
   ]
  },
  {
   "cell_type": "markdown",
   "metadata": {},
   "source": [
    "# You can make a text cell into a header by incluing \"#\" at the beginning of the cell"
   ]
  },
  {
   "cell_type": "markdown",
   "metadata": {},
   "source": [
    "### More \"###\"s makes the header font smaller"
   ]
  },
  {
   "cell_type": "markdown",
   "metadata": {},
   "source": [
    "[This page](https://help.github.com/articles/basic-writing-and-formatting-syntax/) contains a pretty good reference on using markdown.\n",
    "\n",
    "Notice I added a link in the previous line. To add an inline link by wrapping link text in brackets `[ ]`, and then wrapping the URL in parentheses `( )`. For example, adding `[Google](http://www.google.com)` in your markdown creates a link that looks like this: [Google](http://www.google.com)"
   ]
  },
  {
   "cell_type": "code",
   "execution_count": 42,
   "metadata": {
    "collapsed": true
   },
   "outputs": [],
   "source": [
    "# This is a code cell. Python will run the stuff you type in here as a script.\n",
    "# But a line that starts with a \"#\" is called a comment. Python will skip these lines even inside a code cell."
   ]
  },
  {
   "cell_type": "markdown",
   "metadata": {},
   "source": [
    "Now let's try writing some actual code"
   ]
  },
  {
   "cell_type": "code",
   "execution_count": 43,
   "metadata": {
    "collapsed": false
   },
   "outputs": [
    {
     "data": {
      "text/plain": [
       "30"
      ]
     },
     "execution_count": 43,
     "metadata": {},
     "output_type": "execute_result"
    }
   ],
   "source": [
    "x = 18 + 12\n",
    "x"
   ]
  },
  {
   "cell_type": "markdown",
   "metadata": {},
   "source": [
    "As you can see, each time you write in a code cell that is meant to produce an output, you will get an \"Out\" cell right after the \"In\" cell where you wrote the code.\n",
    "\n",
    "The output here is the value of \"x\". Any variable that you write on the last line of a code cell will be outputted.\n",
    "\n",
    "Below is a recording of how it should look like on your screen if you were to type this stuff into your notebook:\n",
    "\n",
    "\n",
    "> ![screencast of editing cells](https://github.com/yanoak/data-extractors-tutorials/blob/master/python-for-extractives/01_Intro_to_Python/img/jupyter_notebook_intro.gif?raw=true)\n",
    "\n",
    "\n",
    "Before we start writing some Python code, let's give this notebook a name. You can do that by clicking on the current title at the top which probably now says something along the lines of `'Untitled'`. Let's call this notebook `'Intro_to_Python'`. Here is a screencast of how you can change the name of the notebook:\n",
    "\n",
    "> ![screencast of renaming notebook](https://github.com/yanoak/data-extractors-tutorials/blob/master/python-for-extractives/01_Intro_to_Python/img/rename_notebook.gif?raw=true)\n",
    "\n",
    "Great! Now we're ready to start playing with data!"
   ]
  },
  {
   "cell_type": "markdown",
   "metadata": {},
   "source": [
    "# 2. Reading Data"
   ]
  },
  {
   "cell_type": "markdown",
   "metadata": {},
   "source": [
    "We will be reading in CSV files that are downloaded from the UK Companies House Extractives Website https://extractives.companieshouse.gov.uk/ \n",
    "\n",
    "I have downloaded the files that were reported by:\n",
    "1. Glencore PLC https://extractives.companieshouse.gov.uk/company/ZE8BF193\n",
    "2. BP PLC https://extractives.companieshouse.gov.uk/company/00102498\n",
    "3. BG Group Limited https://extractives.companieshouse.gov.uk/company/03690065\n",
    "\n",
    "For each of them I extracted the CSV for \"government-totals\" from the zip files and put them all in the same folder as this notebook"
   ]
  },
  {
   "cell_type": "markdown",
   "metadata": {},
   "source": [
    "The first thing we have to do before we can work with data in Python is to call up the Pandas library into our notebook. As mentioned earlier, Python has a big open source ecosystem with lots and lots of libraries, which are collections of code that lets you do specialised things. The Pandas library is the most famous one for working with data.\n",
    "\n",
    "We use the `import` command to import `pandas` into our notebook, and the `'as pd'` part of the command tells the code that we will henceforth use this short name as a alias every time we want to refer to the Pandas library."
   ]
  },
  {
   "cell_type": "code",
   "execution_count": 44,
   "metadata": {
    "collapsed": true
   },
   "outputs": [],
   "source": [
    "# Import the Pandas Library and give it a short name \"pd\"\n",
    "import pandas as pd"
   ]
  },
  {
   "cell_type": "markdown",
   "metadata": {},
   "source": [
    "Next we use a command from the Pandas library to read in a CSV file.\n",
    "\n",
    "Let's break down that command: `pd.read_csv()`\n",
    "\n",
    "`pd` refers  to the Pandas library with the short name that we had given it above. The `.` part calls a command or function from the library that we are referring to before the `.`. So, `pd.` means we are invoking a command from the Pandas library, `SomethingSomething.` means we are invoking a command from the 'SomethingSomething' library.\n",
    "\n",
    "The `read_csv()` is the actual function we are calling from the library. The function works in a similar way to how functions in Excel work. For example, `sum(A1:A5)` tells Excel what to do - sum a bunch of numbers, and what to do it on - the numbers in cells A1 to A5. Similarly, `read_csv()` tells Python to read a CSV file, and the path inside the `( )` tells Python which file you want it to read.\n",
    "\n",
    "That is not all. There is also the `'mydata = '` part that comes before the command. That tells Python that whatever you get from executing the command on the right hand side of the `=` sign, you should assign it to the thing on the left hand side of the equal sign. In this case, we are asking Python to assign the contents of the CSV file we just read to a new variable named `mydata`."
   ]
  },
  {
   "cell_type": "code",
   "execution_count": 45,
   "metadata": {
    "collapsed": true
   },
   "outputs": [],
   "source": [
    "# Import CSV file for BG Group\n",
    "mydata = pd.read_csv('data/government-totals-bg-group-ltd-2015.csv')"
   ]
  },
  {
   "cell_type": "markdown",
   "metadata": {},
   "source": [
    "Now, we have a thing sitting in the computer's memory (in this case a dataset), that is named `mydata`. Specifically, we have created what is known as a [DataFrame](https://pandas.pydata.org/pandas-docs/stable/dsintro.html#dataframe). You can think of a DataFrame as an invisble Excel sheet with rows and columns that is sitting in the computer's memory that you can manipulate by typing commands instead of pointing and clicking like in Excel.\n"
   ]
  },
  {
   "cell_type": "markdown",
   "metadata": {},
   "source": [
    "### Selecting rows and columns"
   ]
  },
  {
   "cell_type": "markdown",
   "metadata": {},
   "source": [
    "Just as we used the `.` with `pd` to invoke commands from the Pandas library, we can use the `.` to invoke commands from the `mydata` DataFrame that we have just created. The `.head()` command lets us look at the first few rows of a DataFrame. It is a good way to take a peek at what the data looks like.\n",
    "\n",
    "You can just type `mydata.head()` to call up the first 5 rows, but you can also put a number into the parentheses, such as `mydata.head(10)`, to specify how many rows you want to see."
   ]
  },
  {
   "cell_type": "code",
   "execution_count": 46,
   "metadata": {
    "collapsed": false
   },
   "outputs": [
    {
     "data": {
      "text/html": [
       "<div>\n",
       "<table border=\"1\" class=\"dataframe\">\n",
       "  <thead>\n",
       "    <tr style=\"text-align: right;\">\n",
       "      <th></th>\n",
       "      <th>Government</th>\n",
       "      <th>CountryCode</th>\n",
       "      <th>Amount</th>\n",
       "      <th>Currency</th>\n",
       "      <th>CompanyName</th>\n",
       "      <th>CompanyNumber</th>\n",
       "      <th>ReportEndDate</th>\n",
       "      <th>Version</th>\n",
       "      <th>Notes</th>\n",
       "      <th>ReportName</th>\n",
       "      <th>ReportNotes</th>\n",
       "      <th>FilingDate</th>\n",
       "    </tr>\n",
       "  </thead>\n",
       "  <tbody>\n",
       "    <tr>\n",
       "      <th>0</th>\n",
       "      <td>Office of State Revenue</td>\n",
       "      <td>AUS</td>\n",
       "      <td>2936000</td>\n",
       "      <td>USD</td>\n",
       "      <td>BG Group Ltd</td>\n",
       "      <td>3690065</td>\n",
       "      <td>2015-12-31</td>\n",
       "      <td>1</td>\n",
       "      <td>NaN</td>\n",
       "      <td>Extractives Report</td>\n",
       "      <td>NaN</td>\n",
       "      <td>27 Jun 2016</td>\n",
       "    </tr>\n",
       "    <tr>\n",
       "      <th>1</th>\n",
       "      <td>Office of State Revenue</td>\n",
       "      <td>AUS</td>\n",
       "      <td>793000</td>\n",
       "      <td>USD</td>\n",
       "      <td>BG Group Ltd</td>\n",
       "      <td>3690065</td>\n",
       "      <td>2015-12-31</td>\n",
       "      <td>1</td>\n",
       "      <td>NaN</td>\n",
       "      <td>Extractives Report</td>\n",
       "      <td>NaN</td>\n",
       "      <td>27 Jun 2016</td>\n",
       "    </tr>\n",
       "    <tr>\n",
       "      <th>2</th>\n",
       "      <td>Queensland Government</td>\n",
       "      <td>AUS</td>\n",
       "      <td>3964000</td>\n",
       "      <td>USD</td>\n",
       "      <td>BG Group Ltd</td>\n",
       "      <td>3690065</td>\n",
       "      <td>2015-12-31</td>\n",
       "      <td>1</td>\n",
       "      <td>NaN</td>\n",
       "      <td>Extractives Report</td>\n",
       "      <td>NaN</td>\n",
       "      <td>27 Jun 2016</td>\n",
       "    </tr>\n",
       "    <tr>\n",
       "      <th>3</th>\n",
       "      <td>Department of Natural Resources and Mines</td>\n",
       "      <td>AUS</td>\n",
       "      <td>2655000</td>\n",
       "      <td>USD</td>\n",
       "      <td>BG Group Ltd</td>\n",
       "      <td>3690065</td>\n",
       "      <td>2015-12-31</td>\n",
       "      <td>1</td>\n",
       "      <td>NaN</td>\n",
       "      <td>Extractives Report</td>\n",
       "      <td>NaN</td>\n",
       "      <td>27 Jun 2016</td>\n",
       "    </tr>\n",
       "    <tr>\n",
       "      <th>4</th>\n",
       "      <td>Western Downs Regional Council</td>\n",
       "      <td>AUS</td>\n",
       "      <td>9640000</td>\n",
       "      <td>USD</td>\n",
       "      <td>BG Group Ltd</td>\n",
       "      <td>3690065</td>\n",
       "      <td>2015-12-31</td>\n",
       "      <td>1</td>\n",
       "      <td>NaN</td>\n",
       "      <td>Extractives Report</td>\n",
       "      <td>NaN</td>\n",
       "      <td>27 Jun 2016</td>\n",
       "    </tr>\n",
       "    <tr>\n",
       "      <th>5</th>\n",
       "      <td>Western Downs Regional Council</td>\n",
       "      <td>AUS</td>\n",
       "      <td>19263000</td>\n",
       "      <td>USD</td>\n",
       "      <td>BG Group Ltd</td>\n",
       "      <td>3690065</td>\n",
       "      <td>2015-12-31</td>\n",
       "      <td>1</td>\n",
       "      <td>NaN</td>\n",
       "      <td>Extractives Report</td>\n",
       "      <td>NaN</td>\n",
       "      <td>27 Jun 2016</td>\n",
       "    </tr>\n",
       "  </tbody>\n",
       "</table>\n",
       "</div>"
      ],
      "text/plain": [
       "                                  Government CountryCode    Amount Currency  \\\n",
       "0                    Office of State Revenue         AUS   2936000      USD   \n",
       "1                    Office of State Revenue         AUS    793000      USD   \n",
       "2                      Queensland Government         AUS   3964000      USD   \n",
       "3  Department of Natural Resources and Mines         AUS   2655000      USD   \n",
       "4             Western Downs Regional Council         AUS   9640000      USD   \n",
       "5             Western Downs Regional Council         AUS  19263000      USD   \n",
       "\n",
       "    CompanyName  CompanyNumber ReportEndDate  Version Notes  \\\n",
       "0  BG Group Ltd        3690065    2015-12-31        1   NaN   \n",
       "1  BG Group Ltd        3690065    2015-12-31        1   NaN   \n",
       "2  BG Group Ltd        3690065    2015-12-31        1   NaN   \n",
       "3  BG Group Ltd        3690065    2015-12-31        1   NaN   \n",
       "4  BG Group Ltd        3690065    2015-12-31        1   NaN   \n",
       "5  BG Group Ltd        3690065    2015-12-31        1   NaN   \n",
       "\n",
       "           ReportName  ReportNotes   FilingDate  \n",
       "0  Extractives Report          NaN  27 Jun 2016  \n",
       "1  Extractives Report          NaN  27 Jun 2016  \n",
       "2  Extractives Report          NaN  27 Jun 2016  \n",
       "3  Extractives Report          NaN  27 Jun 2016  \n",
       "4  Extractives Report          NaN  27 Jun 2016  \n",
       "5  Extractives Report          NaN  27 Jun 2016  "
      ]
     },
     "execution_count": 46,
     "metadata": {},
     "output_type": "execute_result"
    }
   ],
   "source": [
    "# Look at first 6 rows\n",
    "mydata.head(6)"
   ]
  },
  {
   "cell_type": "markdown",
   "metadata": {},
   "source": [
    "If you want to see the values that are in just one column, you can use the command: `nameOfDataFrame[\"NameOfColumn\"]`"
   ]
  },
  {
   "cell_type": "code",
   "execution_count": 47,
   "metadata": {
    "collapsed": false
   },
   "outputs": [
    {
     "data": {
      "text/plain": [
       "0       2936000\n",
       "1        793000\n",
       "2       3964000\n",
       "3       2655000\n",
       "4       9640000\n",
       "5      19263000\n",
       "6        846000\n",
       "7        122000\n",
       "8        506000\n",
       "9      13344000\n",
       "10     61788000\n",
       "11       249000\n",
       "12      8241000\n",
       "13       771000\n",
       "14     70975000\n",
       "15    537757000\n",
       "16     14315000\n",
       "17    477019000\n",
       "18     23502000\n",
       "19     81145000\n",
       "20     42313000\n",
       "21     12455000\n",
       "22    194629000\n",
       "23       528000\n",
       "24    -24642000\n",
       "25       768000\n",
       "26       537000\n",
       "27    160577000\n",
       "28     77911000\n",
       "29     24812000\n",
       "30    205285000\n",
       "31      5951000\n",
       "32      6740000\n",
       "33     11761000\n",
       "34       454000\n",
       "35     66506000\n",
       "36     27660000\n",
       "37      7199000\n",
       "38    406462000\n",
       "39      1562000\n",
       "40       324000\n",
       "41       300000\n",
       "Name: Amount, dtype: int64"
      ]
     },
     "execution_count": 47,
     "metadata": {},
     "output_type": "execute_result"
    }
   ],
   "source": [
    "mydata[\"Amount\"]"
   ]
  },
  {
   "cell_type": "markdown",
   "metadata": {},
   "source": [
    "If you want to see the values that are in just two or more columns, you can use do something similar with a list of column names: `nameOfDataFrame[[\"List\",\"Of\",\"Column\",\"Names\"]]`"
   ]
  },
  {
   "cell_type": "code",
   "execution_count": 48,
   "metadata": {
    "collapsed": false
   },
   "outputs": [
    {
     "data": {
      "text/html": [
       "<div>\n",
       "<table border=\"1\" class=\"dataframe\">\n",
       "  <thead>\n",
       "    <tr style=\"text-align: right;\">\n",
       "      <th></th>\n",
       "      <th>Government</th>\n",
       "      <th>Amount</th>\n",
       "    </tr>\n",
       "  </thead>\n",
       "  <tbody>\n",
       "    <tr>\n",
       "      <th>0</th>\n",
       "      <td>Office of State Revenue</td>\n",
       "      <td>2936000</td>\n",
       "    </tr>\n",
       "    <tr>\n",
       "      <th>1</th>\n",
       "      <td>Office of State Revenue</td>\n",
       "      <td>793000</td>\n",
       "    </tr>\n",
       "    <tr>\n",
       "      <th>2</th>\n",
       "      <td>Queensland Government</td>\n",
       "      <td>3964000</td>\n",
       "    </tr>\n",
       "    <tr>\n",
       "      <th>3</th>\n",
       "      <td>Department of Natural Resources and Mines</td>\n",
       "      <td>2655000</td>\n",
       "    </tr>\n",
       "    <tr>\n",
       "      <th>4</th>\n",
       "      <td>Western Downs Regional Council</td>\n",
       "      <td>9640000</td>\n",
       "    </tr>\n",
       "    <tr>\n",
       "      <th>5</th>\n",
       "      <td>Western Downs Regional Council</td>\n",
       "      <td>19263000</td>\n",
       "    </tr>\n",
       "    <tr>\n",
       "      <th>6</th>\n",
       "      <td>Toowoomba Regional Council</td>\n",
       "      <td>846000</td>\n",
       "    </tr>\n",
       "    <tr>\n",
       "      <th>7</th>\n",
       "      <td>North Burnett Regional Council</td>\n",
       "      <td>122000</td>\n",
       "    </tr>\n",
       "    <tr>\n",
       "      <th>8</th>\n",
       "      <td>Banana Shire Council</td>\n",
       "      <td>506000</td>\n",
       "    </tr>\n",
       "    <tr>\n",
       "      <th>9</th>\n",
       "      <td>National General Treasury</td>\n",
       "      <td>13344000</td>\n",
       "    </tr>\n",
       "    <tr>\n",
       "      <th>10</th>\n",
       "      <td>Internal Revenue Services</td>\n",
       "      <td>61788000</td>\n",
       "    </tr>\n",
       "    <tr>\n",
       "      <th>11</th>\n",
       "      <td>Ministerio de Hidrocarburos y Energía</td>\n",
       "      <td>249000</td>\n",
       "    </tr>\n",
       "    <tr>\n",
       "      <th>12</th>\n",
       "      <td>Yacimientos Petroliferous Fiscales Bolivianos</td>\n",
       "      <td>8241000</td>\n",
       "    </tr>\n",
       "    <tr>\n",
       "      <th>13</th>\n",
       "      <td>Agência Nacional do Petróleo</td>\n",
       "      <td>771000</td>\n",
       "    </tr>\n",
       "    <tr>\n",
       "      <th>14</th>\n",
       "      <td>Secretaria da Receita Federal do Brasil</td>\n",
       "      <td>70975000</td>\n",
       "    </tr>\n",
       "    <tr>\n",
       "      <th>15</th>\n",
       "      <td>Secretaria da Receita Federal do Brasil</td>\n",
       "      <td>537757000</td>\n",
       "    </tr>\n",
       "    <tr>\n",
       "      <th>16</th>\n",
       "      <td>Egyptian Tax Authority</td>\n",
       "      <td>14315000</td>\n",
       "    </tr>\n",
       "    <tr>\n",
       "      <th>17</th>\n",
       "      <td>Egyptian General Petroleum Company</td>\n",
       "      <td>477019000</td>\n",
       "    </tr>\n",
       "    <tr>\n",
       "      <th>18</th>\n",
       "      <td>Income Tax Department</td>\n",
       "      <td>23502000</td>\n",
       "    </tr>\n",
       "    <tr>\n",
       "      <th>19</th>\n",
       "      <td>Ministry of Petroleum and Natural Gas</td>\n",
       "      <td>81145000</td>\n",
       "    </tr>\n",
       "    <tr>\n",
       "      <th>20</th>\n",
       "      <td>Ministry of Petroleum and Natural Gas</td>\n",
       "      <td>42313000</td>\n",
       "    </tr>\n",
       "    <tr>\n",
       "      <th>21</th>\n",
       "      <td>Central Board of Excise and Customs</td>\n",
       "      <td>12455000</td>\n",
       "    </tr>\n",
       "    <tr>\n",
       "      <th>22</th>\n",
       "      <td>State Revenue Committee of the Ministry of Fin...</td>\n",
       "      <td>194629000</td>\n",
       "    </tr>\n",
       "    <tr>\n",
       "      <th>23</th>\n",
       "      <td>Ministry of Energy</td>\n",
       "      <td>528000</td>\n",
       "    </tr>\n",
       "    <tr>\n",
       "      <th>24</th>\n",
       "      <td>Oil Tax Office</td>\n",
       "      <td>-24642000</td>\n",
       "    </tr>\n",
       "    <tr>\n",
       "      <th>25</th>\n",
       "      <td>Oiljedirektorater</td>\n",
       "      <td>768000</td>\n",
       "    </tr>\n",
       "    <tr>\n",
       "      <th>26</th>\n",
       "      <td>Tanzania Petroleum Development Corporation</td>\n",
       "      <td>537000</td>\n",
       "    </tr>\n",
       "    <tr>\n",
       "      <th>27</th>\n",
       "      <td>Revenue Department</td>\n",
       "      <td>160577000</td>\n",
       "    </tr>\n",
       "    <tr>\n",
       "      <th>28</th>\n",
       "      <td>Department of Minerals Fuels</td>\n",
       "      <td>77911000</td>\n",
       "    </tr>\n",
       "    <tr>\n",
       "      <th>29</th>\n",
       "      <td>Ministry of Energy</td>\n",
       "      <td>24812000</td>\n",
       "    </tr>\n",
       "    <tr>\n",
       "      <th>30</th>\n",
       "      <td>Ministry of Energy and Energy Industries</td>\n",
       "      <td>205285000</td>\n",
       "    </tr>\n",
       "    <tr>\n",
       "      <th>31</th>\n",
       "      <td>Ministry of Energy and Energy Industries</td>\n",
       "      <td>5951000</td>\n",
       "    </tr>\n",
       "    <tr>\n",
       "      <th>32</th>\n",
       "      <td>Ministry of Energy and Energy Industries</td>\n",
       "      <td>6740000</td>\n",
       "    </tr>\n",
       "    <tr>\n",
       "      <th>33</th>\n",
       "      <td>Ministry of Finance - Inland Revenue Division</td>\n",
       "      <td>11761000</td>\n",
       "    </tr>\n",
       "    <tr>\n",
       "      <th>34</th>\n",
       "      <td>Ministry of Finance - Inland Revenue Division</td>\n",
       "      <td>454000</td>\n",
       "    </tr>\n",
       "    <tr>\n",
       "      <th>35</th>\n",
       "      <td>Monsieur le Receveur des Finances du Lac</td>\n",
       "      <td>66506000</td>\n",
       "    </tr>\n",
       "    <tr>\n",
       "      <th>36</th>\n",
       "      <td>Monsieur le Receveur des Finances du Lac</td>\n",
       "      <td>27660000</td>\n",
       "    </tr>\n",
       "    <tr>\n",
       "      <th>37</th>\n",
       "      <td>Entreprise Tunisienne d’Activités Pétrolières</td>\n",
       "      <td>7199000</td>\n",
       "    </tr>\n",
       "    <tr>\n",
       "      <th>38</th>\n",
       "      <td>Her Majesty's Revenue &amp; Customs</td>\n",
       "      <td>406462000</td>\n",
       "    </tr>\n",
       "    <tr>\n",
       "      <th>39</th>\n",
       "      <td>Department of Energy and Climate Change</td>\n",
       "      <td>1562000</td>\n",
       "    </tr>\n",
       "    <tr>\n",
       "      <th>40</th>\n",
       "      <td>Health and Safety Executive</td>\n",
       "      <td>324000</td>\n",
       "    </tr>\n",
       "    <tr>\n",
       "      <th>41</th>\n",
       "      <td>Administración Nacional de Combustibles, Alcoh...</td>\n",
       "      <td>300000</td>\n",
       "    </tr>\n",
       "  </tbody>\n",
       "</table>\n",
       "</div>"
      ],
      "text/plain": [
       "                                           Government     Amount\n",
       "0                             Office of State Revenue    2936000\n",
       "1                             Office of State Revenue     793000\n",
       "2                               Queensland Government    3964000\n",
       "3           Department of Natural Resources and Mines    2655000\n",
       "4                      Western Downs Regional Council    9640000\n",
       "5                      Western Downs Regional Council   19263000\n",
       "6                          Toowoomba Regional Council     846000\n",
       "7                      North Burnett Regional Council     122000\n",
       "8                                Banana Shire Council     506000\n",
       "9                           National General Treasury   13344000\n",
       "10                          Internal Revenue Services   61788000\n",
       "11              Ministerio de Hidrocarburos y Energía     249000\n",
       "12      Yacimientos Petroliferous Fiscales Bolivianos    8241000\n",
       "13                       Agência Nacional do Petróleo     771000\n",
       "14            Secretaria da Receita Federal do Brasil   70975000\n",
       "15            Secretaria da Receita Federal do Brasil  537757000\n",
       "16                             Egyptian Tax Authority   14315000\n",
       "17                 Egyptian General Petroleum Company  477019000\n",
       "18                              Income Tax Department   23502000\n",
       "19              Ministry of Petroleum and Natural Gas   81145000\n",
       "20              Ministry of Petroleum and Natural Gas   42313000\n",
       "21                Central Board of Excise and Customs   12455000\n",
       "22  State Revenue Committee of the Ministry of Fin...  194629000\n",
       "23                                 Ministry of Energy     528000\n",
       "24                                     Oil Tax Office  -24642000\n",
       "25                                  Oiljedirektorater     768000\n",
       "26         Tanzania Petroleum Development Corporation     537000\n",
       "27                                 Revenue Department  160577000\n",
       "28                       Department of Minerals Fuels   77911000\n",
       "29                                 Ministry of Energy   24812000\n",
       "30           Ministry of Energy and Energy Industries  205285000\n",
       "31           Ministry of Energy and Energy Industries    5951000\n",
       "32           Ministry of Energy and Energy Industries    6740000\n",
       "33      Ministry of Finance - Inland Revenue Division   11761000\n",
       "34      Ministry of Finance - Inland Revenue Division     454000\n",
       "35           Monsieur le Receveur des Finances du Lac   66506000\n",
       "36           Monsieur le Receveur des Finances du Lac   27660000\n",
       "37      Entreprise Tunisienne d’Activités Pétrolières    7199000\n",
       "38                    Her Majesty's Revenue & Customs  406462000\n",
       "39            Department of Energy and Climate Change    1562000\n",
       "40                        Health and Safety Executive     324000\n",
       "41  Administración Nacional de Combustibles, Alcoh...     300000"
      ]
     },
     "execution_count": 48,
     "metadata": {},
     "output_type": "execute_result"
    }
   ],
   "source": [
    "mydata[[\"Government\",\"Amount\"]]"
   ]
  },
  {
   "cell_type": "markdown",
   "metadata": {},
   "source": [
    "You can also look just at specific columns using the `.loc` command, in a similar way to selecting columns. Below, we type in `mydata.loc[[0,5,10]]` to select rows 0, 5 and 10."
   ]
  },
  {
   "cell_type": "code",
   "execution_count": 49,
   "metadata": {
    "collapsed": false
   },
   "outputs": [
    {
     "data": {
      "text/html": [
       "<div>\n",
       "<table border=\"1\" class=\"dataframe\">\n",
       "  <thead>\n",
       "    <tr style=\"text-align: right;\">\n",
       "      <th></th>\n",
       "      <th>Government</th>\n",
       "      <th>CountryCode</th>\n",
       "      <th>Amount</th>\n",
       "      <th>Currency</th>\n",
       "      <th>CompanyName</th>\n",
       "      <th>CompanyNumber</th>\n",
       "      <th>ReportEndDate</th>\n",
       "      <th>Version</th>\n",
       "      <th>Notes</th>\n",
       "      <th>ReportName</th>\n",
       "      <th>ReportNotes</th>\n",
       "      <th>FilingDate</th>\n",
       "    </tr>\n",
       "  </thead>\n",
       "  <tbody>\n",
       "    <tr>\n",
       "      <th>0</th>\n",
       "      <td>Office of State Revenue</td>\n",
       "      <td>AUS</td>\n",
       "      <td>2936000</td>\n",
       "      <td>USD</td>\n",
       "      <td>BG Group Ltd</td>\n",
       "      <td>3690065</td>\n",
       "      <td>2015-12-31</td>\n",
       "      <td>1</td>\n",
       "      <td>NaN</td>\n",
       "      <td>Extractives Report</td>\n",
       "      <td>NaN</td>\n",
       "      <td>27 Jun 2016</td>\n",
       "    </tr>\n",
       "    <tr>\n",
       "      <th>5</th>\n",
       "      <td>Western Downs Regional Council</td>\n",
       "      <td>AUS</td>\n",
       "      <td>19263000</td>\n",
       "      <td>USD</td>\n",
       "      <td>BG Group Ltd</td>\n",
       "      <td>3690065</td>\n",
       "      <td>2015-12-31</td>\n",
       "      <td>1</td>\n",
       "      <td>NaN</td>\n",
       "      <td>Extractives Report</td>\n",
       "      <td>NaN</td>\n",
       "      <td>27 Jun 2016</td>\n",
       "    </tr>\n",
       "    <tr>\n",
       "      <th>10</th>\n",
       "      <td>Internal Revenue Services</td>\n",
       "      <td>BOL</td>\n",
       "      <td>61788000</td>\n",
       "      <td>USD</td>\n",
       "      <td>BG Group Ltd</td>\n",
       "      <td>3690065</td>\n",
       "      <td>2015-12-31</td>\n",
       "      <td>1</td>\n",
       "      <td>NaN</td>\n",
       "      <td>Extractives Report</td>\n",
       "      <td>NaN</td>\n",
       "      <td>27 Jun 2016</td>\n",
       "    </tr>\n",
       "  </tbody>\n",
       "</table>\n",
       "</div>"
      ],
      "text/plain": [
       "                        Government CountryCode    Amount Currency  \\\n",
       "0          Office of State Revenue         AUS   2936000      USD   \n",
       "5   Western Downs Regional Council         AUS  19263000      USD   \n",
       "10       Internal Revenue Services         BOL  61788000      USD   \n",
       "\n",
       "     CompanyName  CompanyNumber ReportEndDate  Version Notes  \\\n",
       "0   BG Group Ltd        3690065    2015-12-31        1   NaN   \n",
       "5   BG Group Ltd        3690065    2015-12-31        1   NaN   \n",
       "10  BG Group Ltd        3690065    2015-12-31        1   NaN   \n",
       "\n",
       "            ReportName  ReportNotes   FilingDate  \n",
       "0   Extractives Report          NaN  27 Jun 2016  \n",
       "5   Extractives Report          NaN  27 Jun 2016  \n",
       "10  Extractives Report          NaN  27 Jun 2016  "
      ]
     },
     "execution_count": 49,
     "metadata": {},
     "output_type": "execute_result"
    }
   ],
   "source": [
    "mydata.loc[[0,5,10]]"
   ]
  },
  {
   "cell_type": "markdown",
   "metadata": {},
   "source": [
    "We can also select a series of rows using `nameOfDataFrame.loc[firstRow:LastRow]`. For example "
   ]
  },
  {
   "cell_type": "code",
   "execution_count": 50,
   "metadata": {
    "collapsed": false
   },
   "outputs": [
    {
     "data": {
      "text/html": [
       "<div>\n",
       "<table border=\"1\" class=\"dataframe\">\n",
       "  <thead>\n",
       "    <tr style=\"text-align: right;\">\n",
       "      <th></th>\n",
       "      <th>Government</th>\n",
       "      <th>CountryCode</th>\n",
       "      <th>Amount</th>\n",
       "      <th>Currency</th>\n",
       "      <th>CompanyName</th>\n",
       "      <th>CompanyNumber</th>\n",
       "      <th>ReportEndDate</th>\n",
       "      <th>Version</th>\n",
       "      <th>Notes</th>\n",
       "      <th>ReportName</th>\n",
       "      <th>ReportNotes</th>\n",
       "      <th>FilingDate</th>\n",
       "    </tr>\n",
       "  </thead>\n",
       "  <tbody>\n",
       "    <tr>\n",
       "      <th>5</th>\n",
       "      <td>Western Downs Regional Council</td>\n",
       "      <td>AUS</td>\n",
       "      <td>19263000</td>\n",
       "      <td>USD</td>\n",
       "      <td>BG Group Ltd</td>\n",
       "      <td>3690065</td>\n",
       "      <td>2015-12-31</td>\n",
       "      <td>1</td>\n",
       "      <td>NaN</td>\n",
       "      <td>Extractives Report</td>\n",
       "      <td>NaN</td>\n",
       "      <td>27 Jun 2016</td>\n",
       "    </tr>\n",
       "    <tr>\n",
       "      <th>6</th>\n",
       "      <td>Toowoomba Regional Council</td>\n",
       "      <td>AUS</td>\n",
       "      <td>846000</td>\n",
       "      <td>USD</td>\n",
       "      <td>BG Group Ltd</td>\n",
       "      <td>3690065</td>\n",
       "      <td>2015-12-31</td>\n",
       "      <td>1</td>\n",
       "      <td>NaN</td>\n",
       "      <td>Extractives Report</td>\n",
       "      <td>NaN</td>\n",
       "      <td>27 Jun 2016</td>\n",
       "    </tr>\n",
       "    <tr>\n",
       "      <th>7</th>\n",
       "      <td>North Burnett Regional Council</td>\n",
       "      <td>AUS</td>\n",
       "      <td>122000</td>\n",
       "      <td>USD</td>\n",
       "      <td>BG Group Ltd</td>\n",
       "      <td>3690065</td>\n",
       "      <td>2015-12-31</td>\n",
       "      <td>1</td>\n",
       "      <td>NaN</td>\n",
       "      <td>Extractives Report</td>\n",
       "      <td>NaN</td>\n",
       "      <td>27 Jun 2016</td>\n",
       "    </tr>\n",
       "    <tr>\n",
       "      <th>8</th>\n",
       "      <td>Banana Shire Council</td>\n",
       "      <td>AUS</td>\n",
       "      <td>506000</td>\n",
       "      <td>USD</td>\n",
       "      <td>BG Group Ltd</td>\n",
       "      <td>3690065</td>\n",
       "      <td>2015-12-31</td>\n",
       "      <td>1</td>\n",
       "      <td>NaN</td>\n",
       "      <td>Extractives Report</td>\n",
       "      <td>NaN</td>\n",
       "      <td>27 Jun 2016</td>\n",
       "    </tr>\n",
       "    <tr>\n",
       "      <th>9</th>\n",
       "      <td>National General Treasury</td>\n",
       "      <td>BOL</td>\n",
       "      <td>13344000</td>\n",
       "      <td>USD</td>\n",
       "      <td>BG Group Ltd</td>\n",
       "      <td>3690065</td>\n",
       "      <td>2015-12-31</td>\n",
       "      <td>1</td>\n",
       "      <td>NaN</td>\n",
       "      <td>Extractives Report</td>\n",
       "      <td>NaN</td>\n",
       "      <td>27 Jun 2016</td>\n",
       "    </tr>\n",
       "    <tr>\n",
       "      <th>10</th>\n",
       "      <td>Internal Revenue Services</td>\n",
       "      <td>BOL</td>\n",
       "      <td>61788000</td>\n",
       "      <td>USD</td>\n",
       "      <td>BG Group Ltd</td>\n",
       "      <td>3690065</td>\n",
       "      <td>2015-12-31</td>\n",
       "      <td>1</td>\n",
       "      <td>NaN</td>\n",
       "      <td>Extractives Report</td>\n",
       "      <td>NaN</td>\n",
       "      <td>27 Jun 2016</td>\n",
       "    </tr>\n",
       "  </tbody>\n",
       "</table>\n",
       "</div>"
      ],
      "text/plain": [
       "                        Government CountryCode    Amount Currency  \\\n",
       "5   Western Downs Regional Council         AUS  19263000      USD   \n",
       "6       Toowoomba Regional Council         AUS    846000      USD   \n",
       "7   North Burnett Regional Council         AUS    122000      USD   \n",
       "8             Banana Shire Council         AUS    506000      USD   \n",
       "9        National General Treasury         BOL  13344000      USD   \n",
       "10       Internal Revenue Services         BOL  61788000      USD   \n",
       "\n",
       "     CompanyName  CompanyNumber ReportEndDate  Version Notes  \\\n",
       "5   BG Group Ltd        3690065    2015-12-31        1   NaN   \n",
       "6   BG Group Ltd        3690065    2015-12-31        1   NaN   \n",
       "7   BG Group Ltd        3690065    2015-12-31        1   NaN   \n",
       "8   BG Group Ltd        3690065    2015-12-31        1   NaN   \n",
       "9   BG Group Ltd        3690065    2015-12-31        1   NaN   \n",
       "10  BG Group Ltd        3690065    2015-12-31        1   NaN   \n",
       "\n",
       "            ReportName  ReportNotes   FilingDate  \n",
       "5   Extractives Report          NaN  27 Jun 2016  \n",
       "6   Extractives Report          NaN  27 Jun 2016  \n",
       "7   Extractives Report          NaN  27 Jun 2016  \n",
       "8   Extractives Report          NaN  27 Jun 2016  \n",
       "9   Extractives Report          NaN  27 Jun 2016  \n",
       "10  Extractives Report          NaN  27 Jun 2016  "
      ]
     },
     "execution_count": 50,
     "metadata": {},
     "output_type": "execute_result"
    }
   ],
   "source": [
    "mydata.loc[5:10]"
   ]
  },
  {
   "cell_type": "markdown",
   "metadata": {},
   "source": [
    "We can also select both rows and columns at once using `nameOfDataFrame.loc[rows,columns]`. For example:"
   ]
  },
  {
   "cell_type": "code",
   "execution_count": 51,
   "metadata": {
    "collapsed": false
   },
   "outputs": [
    {
     "data": {
      "text/html": [
       "<div>\n",
       "<table border=\"1\" class=\"dataframe\">\n",
       "  <thead>\n",
       "    <tr style=\"text-align: right;\">\n",
       "      <th></th>\n",
       "      <th>Government</th>\n",
       "      <th>Amount</th>\n",
       "    </tr>\n",
       "  </thead>\n",
       "  <tbody>\n",
       "    <tr>\n",
       "      <th>0</th>\n",
       "      <td>Office of State Revenue</td>\n",
       "      <td>2936000</td>\n",
       "    </tr>\n",
       "    <tr>\n",
       "      <th>5</th>\n",
       "      <td>Western Downs Regional Council</td>\n",
       "      <td>19263000</td>\n",
       "    </tr>\n",
       "    <tr>\n",
       "      <th>10</th>\n",
       "      <td>Internal Revenue Services</td>\n",
       "      <td>61788000</td>\n",
       "    </tr>\n",
       "  </tbody>\n",
       "</table>\n",
       "</div>"
      ],
      "text/plain": [
       "                        Government    Amount\n",
       "0          Office of State Revenue   2936000\n",
       "5   Western Downs Regional Council  19263000\n",
       "10       Internal Revenue Services  61788000"
      ]
     },
     "execution_count": 51,
     "metadata": {},
     "output_type": "execute_result"
    }
   ],
   "source": [
    "mydata.loc[[0,5,10],[\"Government\",\"Amount\"]]"
   ]
  },
  {
   "cell_type": "code",
   "execution_count": 52,
   "metadata": {
    "collapsed": false
   },
   "outputs": [
    {
     "data": {
      "text/html": [
       "<div>\n",
       "<table border=\"1\" class=\"dataframe\">\n",
       "  <thead>\n",
       "    <tr style=\"text-align: right;\">\n",
       "      <th></th>\n",
       "      <th>Government</th>\n",
       "      <th>CountryCode</th>\n",
       "      <th>Amount</th>\n",
       "    </tr>\n",
       "  </thead>\n",
       "  <tbody>\n",
       "    <tr>\n",
       "      <th>4</th>\n",
       "      <td>Western Downs Regional Council</td>\n",
       "      <td>AUS</td>\n",
       "      <td>9640000</td>\n",
       "    </tr>\n",
       "    <tr>\n",
       "      <th>5</th>\n",
       "      <td>Western Downs Regional Council</td>\n",
       "      <td>AUS</td>\n",
       "      <td>19263000</td>\n",
       "    </tr>\n",
       "    <tr>\n",
       "      <th>6</th>\n",
       "      <td>Toowoomba Regional Council</td>\n",
       "      <td>AUS</td>\n",
       "      <td>846000</td>\n",
       "    </tr>\n",
       "    <tr>\n",
       "      <th>7</th>\n",
       "      <td>North Burnett Regional Council</td>\n",
       "      <td>AUS</td>\n",
       "      <td>122000</td>\n",
       "    </tr>\n",
       "    <tr>\n",
       "      <th>8</th>\n",
       "      <td>Banana Shire Council</td>\n",
       "      <td>AUS</td>\n",
       "      <td>506000</td>\n",
       "    </tr>\n",
       "    <tr>\n",
       "      <th>9</th>\n",
       "      <td>National General Treasury</td>\n",
       "      <td>BOL</td>\n",
       "      <td>13344000</td>\n",
       "    </tr>\n",
       "  </tbody>\n",
       "</table>\n",
       "</div>"
      ],
      "text/plain": [
       "                       Government CountryCode    Amount\n",
       "4  Western Downs Regional Council         AUS   9640000\n",
       "5  Western Downs Regional Council         AUS  19263000\n",
       "6      Toowoomba Regional Council         AUS    846000\n",
       "7  North Burnett Regional Council         AUS    122000\n",
       "8            Banana Shire Council         AUS    506000\n",
       "9       National General Treasury         BOL  13344000"
      ]
     },
     "execution_count": 52,
     "metadata": {},
     "output_type": "execute_result"
    }
   ],
   "source": [
    "mydata.loc[4:9,[\"Government\",\"CountryCode\",\"Amount\"]]"
   ]
  },
  {
   "cell_type": "markdown",
   "metadata": {},
   "source": [
    "### Summarizing data"
   ]
  },
  {
   "cell_type": "markdown",
   "metadata": {},
   "source": [
    "Next we look at some simple commands for summarizing data.\n",
    "\n",
    "The `.describe()` commands gives the count, mean, standard deviation, maximum, minimum, and quartiles of a column that has numerical values. The numbers are shown in exponential notation. So, 4.2e+01 = 4.2 and 6.095055e+07 = 60,950,550"
   ]
  },
  {
   "cell_type": "code",
   "execution_count": 53,
   "metadata": {
    "collapsed": false
   },
   "outputs": [
    {
     "data": {
      "text/plain": [
       "count    4.200000e+01\n",
       "mean     6.095055e+07\n",
       "std      1.271989e+08\n",
       "min     -2.464200e+07\n",
       "25%      7.765000e+05\n",
       "50%      8.940500e+06\n",
       "75%      5.691925e+07\n",
       "max      5.377570e+08\n",
       "Name: Amount, dtype: float64"
      ]
     },
     "execution_count": 53,
     "metadata": {},
     "output_type": "execute_result"
    }
   ],
   "source": [
    "mydata[\"Amount\"].describe()"
   ]
  },
  {
   "cell_type": "markdown",
   "metadata": {},
   "source": [
    "The `.sum()` commands adds the values in a column. This can ba applied to just a selection and not the whole column as well."
   ]
  },
  {
   "cell_type": "code",
   "execution_count": 54,
   "metadata": {
    "collapsed": false
   },
   "outputs": [
    {
     "data": {
      "text/plain": [
       "2559923000"
      ]
     },
     "execution_count": 54,
     "metadata": {},
     "output_type": "execute_result"
    }
   ],
   "source": [
    "mydata[\"Amount\"].sum()"
   ]
  },
  {
   "cell_type": "code",
   "execution_count": 55,
   "metadata": {
    "collapsed": false
   },
   "outputs": [
    {
     "data": {
      "text/plain": [
       "43721000"
      ]
     },
     "execution_count": 55,
     "metadata": {},
     "output_type": "execute_result"
    }
   ],
   "source": [
    "mydata.loc[4:9,\"Amount\"].sum()"
   ]
  },
  {
   "cell_type": "markdown",
   "metadata": {},
   "source": [
    "### Filtering"
   ]
  },
  {
   "cell_type": "markdown",
   "metadata": {},
   "source": [
    "One useful way of manipulating data is filtering based on certain criteria, for example, showing only rows related to a certain country or amounts above 1 million.\n",
    "\n",
    "To do that we use a version of the command we used earlier fro selecting, which looks like this: `nameOfDataFrame.loc[]`\n",
    "\n",
    "Inside the `[]` we specifiy the filter that we want. Let's say we see only the rows which show the payments made to the Australian government. To do that, the filter we want is `mydata[\"CountryCode\"] == \"AUS\"`, where the `==` indicates that a equality condition needs to be met in order for that row to be chosen. Namely, the condition is that the `\"CountryCode\"` column in that row has to be equal to `\"AUS\"`.\n",
    "\n",
    "Since we want to preserve the results of that filter to work on it further, we assign the new variable `mydata_AUS` with the results of that filter with the `'mydata_AUS ='` part of the command."
   ]
  },
  {
   "cell_type": "code",
   "execution_count": 56,
   "metadata": {
    "collapsed": false
   },
   "outputs": [],
   "source": [
    "mydata_AUS = mydata.loc[mydata[\"CountryCode\"] == \"AUS\"]"
   ]
  },
  {
   "cell_type": "markdown",
   "metadata": {},
   "source": [
    "Typing in just the name of the variable displays the entire DataFrame that the variable is assigned to. Look, it only shows rows where the `CountryCode` is Australia, i.e. `AUS`"
   ]
  },
  {
   "cell_type": "code",
   "execution_count": 57,
   "metadata": {
    "collapsed": false
   },
   "outputs": [
    {
     "data": {
      "text/html": [
       "<div>\n",
       "<table border=\"1\" class=\"dataframe\">\n",
       "  <thead>\n",
       "    <tr style=\"text-align: right;\">\n",
       "      <th></th>\n",
       "      <th>Government</th>\n",
       "      <th>CountryCode</th>\n",
       "      <th>Amount</th>\n",
       "      <th>Currency</th>\n",
       "      <th>CompanyName</th>\n",
       "      <th>CompanyNumber</th>\n",
       "      <th>ReportEndDate</th>\n",
       "      <th>Version</th>\n",
       "      <th>Notes</th>\n",
       "      <th>ReportName</th>\n",
       "      <th>ReportNotes</th>\n",
       "      <th>FilingDate</th>\n",
       "    </tr>\n",
       "  </thead>\n",
       "  <tbody>\n",
       "    <tr>\n",
       "      <th>0</th>\n",
       "      <td>Office of State Revenue</td>\n",
       "      <td>AUS</td>\n",
       "      <td>2936000</td>\n",
       "      <td>USD</td>\n",
       "      <td>BG Group Ltd</td>\n",
       "      <td>3690065</td>\n",
       "      <td>2015-12-31</td>\n",
       "      <td>1</td>\n",
       "      <td>NaN</td>\n",
       "      <td>Extractives Report</td>\n",
       "      <td>NaN</td>\n",
       "      <td>27 Jun 2016</td>\n",
       "    </tr>\n",
       "    <tr>\n",
       "      <th>1</th>\n",
       "      <td>Office of State Revenue</td>\n",
       "      <td>AUS</td>\n",
       "      <td>793000</td>\n",
       "      <td>USD</td>\n",
       "      <td>BG Group Ltd</td>\n",
       "      <td>3690065</td>\n",
       "      <td>2015-12-31</td>\n",
       "      <td>1</td>\n",
       "      <td>NaN</td>\n",
       "      <td>Extractives Report</td>\n",
       "      <td>NaN</td>\n",
       "      <td>27 Jun 2016</td>\n",
       "    </tr>\n",
       "    <tr>\n",
       "      <th>2</th>\n",
       "      <td>Queensland Government</td>\n",
       "      <td>AUS</td>\n",
       "      <td>3964000</td>\n",
       "      <td>USD</td>\n",
       "      <td>BG Group Ltd</td>\n",
       "      <td>3690065</td>\n",
       "      <td>2015-12-31</td>\n",
       "      <td>1</td>\n",
       "      <td>NaN</td>\n",
       "      <td>Extractives Report</td>\n",
       "      <td>NaN</td>\n",
       "      <td>27 Jun 2016</td>\n",
       "    </tr>\n",
       "    <tr>\n",
       "      <th>3</th>\n",
       "      <td>Department of Natural Resources and Mines</td>\n",
       "      <td>AUS</td>\n",
       "      <td>2655000</td>\n",
       "      <td>USD</td>\n",
       "      <td>BG Group Ltd</td>\n",
       "      <td>3690065</td>\n",
       "      <td>2015-12-31</td>\n",
       "      <td>1</td>\n",
       "      <td>NaN</td>\n",
       "      <td>Extractives Report</td>\n",
       "      <td>NaN</td>\n",
       "      <td>27 Jun 2016</td>\n",
       "    </tr>\n",
       "    <tr>\n",
       "      <th>4</th>\n",
       "      <td>Western Downs Regional Council</td>\n",
       "      <td>AUS</td>\n",
       "      <td>9640000</td>\n",
       "      <td>USD</td>\n",
       "      <td>BG Group Ltd</td>\n",
       "      <td>3690065</td>\n",
       "      <td>2015-12-31</td>\n",
       "      <td>1</td>\n",
       "      <td>NaN</td>\n",
       "      <td>Extractives Report</td>\n",
       "      <td>NaN</td>\n",
       "      <td>27 Jun 2016</td>\n",
       "    </tr>\n",
       "    <tr>\n",
       "      <th>5</th>\n",
       "      <td>Western Downs Regional Council</td>\n",
       "      <td>AUS</td>\n",
       "      <td>19263000</td>\n",
       "      <td>USD</td>\n",
       "      <td>BG Group Ltd</td>\n",
       "      <td>3690065</td>\n",
       "      <td>2015-12-31</td>\n",
       "      <td>1</td>\n",
       "      <td>NaN</td>\n",
       "      <td>Extractives Report</td>\n",
       "      <td>NaN</td>\n",
       "      <td>27 Jun 2016</td>\n",
       "    </tr>\n",
       "    <tr>\n",
       "      <th>6</th>\n",
       "      <td>Toowoomba Regional Council</td>\n",
       "      <td>AUS</td>\n",
       "      <td>846000</td>\n",
       "      <td>USD</td>\n",
       "      <td>BG Group Ltd</td>\n",
       "      <td>3690065</td>\n",
       "      <td>2015-12-31</td>\n",
       "      <td>1</td>\n",
       "      <td>NaN</td>\n",
       "      <td>Extractives Report</td>\n",
       "      <td>NaN</td>\n",
       "      <td>27 Jun 2016</td>\n",
       "    </tr>\n",
       "    <tr>\n",
       "      <th>7</th>\n",
       "      <td>North Burnett Regional Council</td>\n",
       "      <td>AUS</td>\n",
       "      <td>122000</td>\n",
       "      <td>USD</td>\n",
       "      <td>BG Group Ltd</td>\n",
       "      <td>3690065</td>\n",
       "      <td>2015-12-31</td>\n",
       "      <td>1</td>\n",
       "      <td>NaN</td>\n",
       "      <td>Extractives Report</td>\n",
       "      <td>NaN</td>\n",
       "      <td>27 Jun 2016</td>\n",
       "    </tr>\n",
       "    <tr>\n",
       "      <th>8</th>\n",
       "      <td>Banana Shire Council</td>\n",
       "      <td>AUS</td>\n",
       "      <td>506000</td>\n",
       "      <td>USD</td>\n",
       "      <td>BG Group Ltd</td>\n",
       "      <td>3690065</td>\n",
       "      <td>2015-12-31</td>\n",
       "      <td>1</td>\n",
       "      <td>NaN</td>\n",
       "      <td>Extractives Report</td>\n",
       "      <td>NaN</td>\n",
       "      <td>27 Jun 2016</td>\n",
       "    </tr>\n",
       "  </tbody>\n",
       "</table>\n",
       "</div>"
      ],
      "text/plain": [
       "                                  Government CountryCode    Amount Currency  \\\n",
       "0                    Office of State Revenue         AUS   2936000      USD   \n",
       "1                    Office of State Revenue         AUS    793000      USD   \n",
       "2                      Queensland Government         AUS   3964000      USD   \n",
       "3  Department of Natural Resources and Mines         AUS   2655000      USD   \n",
       "4             Western Downs Regional Council         AUS   9640000      USD   \n",
       "5             Western Downs Regional Council         AUS  19263000      USD   \n",
       "6                 Toowoomba Regional Council         AUS    846000      USD   \n",
       "7             North Burnett Regional Council         AUS    122000      USD   \n",
       "8                       Banana Shire Council         AUS    506000      USD   \n",
       "\n",
       "    CompanyName  CompanyNumber ReportEndDate  Version Notes  \\\n",
       "0  BG Group Ltd        3690065    2015-12-31        1   NaN   \n",
       "1  BG Group Ltd        3690065    2015-12-31        1   NaN   \n",
       "2  BG Group Ltd        3690065    2015-12-31        1   NaN   \n",
       "3  BG Group Ltd        3690065    2015-12-31        1   NaN   \n",
       "4  BG Group Ltd        3690065    2015-12-31        1   NaN   \n",
       "5  BG Group Ltd        3690065    2015-12-31        1   NaN   \n",
       "6  BG Group Ltd        3690065    2015-12-31        1   NaN   \n",
       "7  BG Group Ltd        3690065    2015-12-31        1   NaN   \n",
       "8  BG Group Ltd        3690065    2015-12-31        1   NaN   \n",
       "\n",
       "           ReportName  ReportNotes   FilingDate  \n",
       "0  Extractives Report          NaN  27 Jun 2016  \n",
       "1  Extractives Report          NaN  27 Jun 2016  \n",
       "2  Extractives Report          NaN  27 Jun 2016  \n",
       "3  Extractives Report          NaN  27 Jun 2016  \n",
       "4  Extractives Report          NaN  27 Jun 2016  \n",
       "5  Extractives Report          NaN  27 Jun 2016  \n",
       "6  Extractives Report          NaN  27 Jun 2016  \n",
       "7  Extractives Report          NaN  27 Jun 2016  \n",
       "8  Extractives Report          NaN  27 Jun 2016  "
      ]
     },
     "execution_count": 57,
     "metadata": {},
     "output_type": "execute_result"
    }
   ],
   "source": [
    "mydata_AUS"
   ]
  },
  {
   "cell_type": "markdown",
   "metadata": {},
   "source": [
    "We can use the earlier commands for summarising data for this new filtered DataFrame as well."
   ]
  },
  {
   "cell_type": "code",
   "execution_count": 58,
   "metadata": {
    "collapsed": false
   },
   "outputs": [
    {
     "data": {
      "text/plain": [
       "count    9.000000e+00\n",
       "mean     4.525000e+06\n",
       "std      6.252100e+06\n",
       "min      1.220000e+05\n",
       "25%      7.930000e+05\n",
       "50%      2.655000e+06\n",
       "75%      3.964000e+06\n",
       "max      1.926300e+07\n",
       "Name: Amount, dtype: float64"
      ]
     },
     "execution_count": 58,
     "metadata": {},
     "output_type": "execute_result"
    }
   ],
   "source": [
    "mydata_AUS[\"Amount\"].describe()"
   ]
  },
  {
   "cell_type": "code",
   "execution_count": 59,
   "metadata": {
    "collapsed": false
   },
   "outputs": [
    {
     "data": {
      "text/plain": [
       "40725000"
      ]
     },
     "execution_count": 59,
     "metadata": {},
     "output_type": "execute_result"
    }
   ],
   "source": [
    "mydata_AUS[\"Amount\"].sum()"
   ]
  },
  {
   "cell_type": "markdown",
   "metadata": {},
   "source": [
    "We can also combine multiple filters by putting each filter in `( )` and joinging them with `'&'` for 'and' or `'|'` for 'or'. You can even put `( )` inside other `( )` to create complex filters that you won't be able to make in a tool like Excel."
   ]
  },
  {
   "cell_type": "code",
   "execution_count": 60,
   "metadata": {
    "collapsed": false
   },
   "outputs": [
    {
     "data": {
      "text/html": [
       "<div>\n",
       "<table border=\"1\" class=\"dataframe\">\n",
       "  <thead>\n",
       "    <tr style=\"text-align: right;\">\n",
       "      <th></th>\n",
       "      <th>Government</th>\n",
       "      <th>CountryCode</th>\n",
       "      <th>Amount</th>\n",
       "      <th>Currency</th>\n",
       "      <th>CompanyName</th>\n",
       "      <th>CompanyNumber</th>\n",
       "      <th>ReportEndDate</th>\n",
       "      <th>Version</th>\n",
       "      <th>Notes</th>\n",
       "      <th>ReportName</th>\n",
       "      <th>ReportNotes</th>\n",
       "      <th>FilingDate</th>\n",
       "    </tr>\n",
       "  </thead>\n",
       "  <tbody>\n",
       "    <tr>\n",
       "      <th>0</th>\n",
       "      <td>Office of State Revenue</td>\n",
       "      <td>AUS</td>\n",
       "      <td>2936000</td>\n",
       "      <td>USD</td>\n",
       "      <td>BG Group Ltd</td>\n",
       "      <td>3690065</td>\n",
       "      <td>2015-12-31</td>\n",
       "      <td>1</td>\n",
       "      <td>NaN</td>\n",
       "      <td>Extractives Report</td>\n",
       "      <td>NaN</td>\n",
       "      <td>27 Jun 2016</td>\n",
       "    </tr>\n",
       "    <tr>\n",
       "      <th>2</th>\n",
       "      <td>Queensland Government</td>\n",
       "      <td>AUS</td>\n",
       "      <td>3964000</td>\n",
       "      <td>USD</td>\n",
       "      <td>BG Group Ltd</td>\n",
       "      <td>3690065</td>\n",
       "      <td>2015-12-31</td>\n",
       "      <td>1</td>\n",
       "      <td>NaN</td>\n",
       "      <td>Extractives Report</td>\n",
       "      <td>NaN</td>\n",
       "      <td>27 Jun 2016</td>\n",
       "    </tr>\n",
       "    <tr>\n",
       "      <th>3</th>\n",
       "      <td>Department of Natural Resources and Mines</td>\n",
       "      <td>AUS</td>\n",
       "      <td>2655000</td>\n",
       "      <td>USD</td>\n",
       "      <td>BG Group Ltd</td>\n",
       "      <td>3690065</td>\n",
       "      <td>2015-12-31</td>\n",
       "      <td>1</td>\n",
       "      <td>NaN</td>\n",
       "      <td>Extractives Report</td>\n",
       "      <td>NaN</td>\n",
       "      <td>27 Jun 2016</td>\n",
       "    </tr>\n",
       "    <tr>\n",
       "      <th>4</th>\n",
       "      <td>Western Downs Regional Council</td>\n",
       "      <td>AUS</td>\n",
       "      <td>9640000</td>\n",
       "      <td>USD</td>\n",
       "      <td>BG Group Ltd</td>\n",
       "      <td>3690065</td>\n",
       "      <td>2015-12-31</td>\n",
       "      <td>1</td>\n",
       "      <td>NaN</td>\n",
       "      <td>Extractives Report</td>\n",
       "      <td>NaN</td>\n",
       "      <td>27 Jun 2016</td>\n",
       "    </tr>\n",
       "    <tr>\n",
       "      <th>5</th>\n",
       "      <td>Western Downs Regional Council</td>\n",
       "      <td>AUS</td>\n",
       "      <td>19263000</td>\n",
       "      <td>USD</td>\n",
       "      <td>BG Group Ltd</td>\n",
       "      <td>3690065</td>\n",
       "      <td>2015-12-31</td>\n",
       "      <td>1</td>\n",
       "      <td>NaN</td>\n",
       "      <td>Extractives Report</td>\n",
       "      <td>NaN</td>\n",
       "      <td>27 Jun 2016</td>\n",
       "    </tr>\n",
       "  </tbody>\n",
       "</table>\n",
       "</div>"
      ],
      "text/plain": [
       "                                  Government CountryCode    Amount Currency  \\\n",
       "0                    Office of State Revenue         AUS   2936000      USD   \n",
       "2                      Queensland Government         AUS   3964000      USD   \n",
       "3  Department of Natural Resources and Mines         AUS   2655000      USD   \n",
       "4             Western Downs Regional Council         AUS   9640000      USD   \n",
       "5             Western Downs Regional Council         AUS  19263000      USD   \n",
       "\n",
       "    CompanyName  CompanyNumber ReportEndDate  Version Notes  \\\n",
       "0  BG Group Ltd        3690065    2015-12-31        1   NaN   \n",
       "2  BG Group Ltd        3690065    2015-12-31        1   NaN   \n",
       "3  BG Group Ltd        3690065    2015-12-31        1   NaN   \n",
       "4  BG Group Ltd        3690065    2015-12-31        1   NaN   \n",
       "5  BG Group Ltd        3690065    2015-12-31        1   NaN   \n",
       "\n",
       "           ReportName  ReportNotes   FilingDate  \n",
       "0  Extractives Report          NaN  27 Jun 2016  \n",
       "2  Extractives Report          NaN  27 Jun 2016  \n",
       "3  Extractives Report          NaN  27 Jun 2016  \n",
       "4  Extractives Report          NaN  27 Jun 2016  \n",
       "5  Extractives Report          NaN  27 Jun 2016  "
      ]
     },
     "execution_count": 60,
     "metadata": {},
     "output_type": "execute_result"
    }
   ],
   "source": [
    "# Filter for payments to Australia over a million\n",
    "mydata_AUS_overmillion = mydata.loc[(mydata[\"CountryCode\"] == \"AUS\") & (mydata[\"Amount\"] > 1000000)]\n",
    "mydata_AUS_overmillion"
   ]
  },
  {
   "cell_type": "code",
   "execution_count": 61,
   "metadata": {
    "collapsed": false
   },
   "outputs": [
    {
     "data": {
      "text/html": [
       "<div>\n",
       "<table border=\"1\" class=\"dataframe\">\n",
       "  <thead>\n",
       "    <tr style=\"text-align: right;\">\n",
       "      <th></th>\n",
       "      <th>Government</th>\n",
       "      <th>CountryCode</th>\n",
       "      <th>Amount</th>\n",
       "      <th>Currency</th>\n",
       "      <th>CompanyName</th>\n",
       "      <th>CompanyNumber</th>\n",
       "      <th>ReportEndDate</th>\n",
       "      <th>Version</th>\n",
       "      <th>Notes</th>\n",
       "      <th>ReportName</th>\n",
       "      <th>ReportNotes</th>\n",
       "      <th>FilingDate</th>\n",
       "    </tr>\n",
       "  </thead>\n",
       "  <tbody>\n",
       "    <tr>\n",
       "      <th>0</th>\n",
       "      <td>Office of State Revenue</td>\n",
       "      <td>AUS</td>\n",
       "      <td>2936000</td>\n",
       "      <td>USD</td>\n",
       "      <td>BG Group Ltd</td>\n",
       "      <td>3690065</td>\n",
       "      <td>2015-12-31</td>\n",
       "      <td>1</td>\n",
       "      <td>NaN</td>\n",
       "      <td>Extractives Report</td>\n",
       "      <td>NaN</td>\n",
       "      <td>27 Jun 2016</td>\n",
       "    </tr>\n",
       "    <tr>\n",
       "      <th>2</th>\n",
       "      <td>Queensland Government</td>\n",
       "      <td>AUS</td>\n",
       "      <td>3964000</td>\n",
       "      <td>USD</td>\n",
       "      <td>BG Group Ltd</td>\n",
       "      <td>3690065</td>\n",
       "      <td>2015-12-31</td>\n",
       "      <td>1</td>\n",
       "      <td>NaN</td>\n",
       "      <td>Extractives Report</td>\n",
       "      <td>NaN</td>\n",
       "      <td>27 Jun 2016</td>\n",
       "    </tr>\n",
       "    <tr>\n",
       "      <th>3</th>\n",
       "      <td>Department of Natural Resources and Mines</td>\n",
       "      <td>AUS</td>\n",
       "      <td>2655000</td>\n",
       "      <td>USD</td>\n",
       "      <td>BG Group Ltd</td>\n",
       "      <td>3690065</td>\n",
       "      <td>2015-12-31</td>\n",
       "      <td>1</td>\n",
       "      <td>NaN</td>\n",
       "      <td>Extractives Report</td>\n",
       "      <td>NaN</td>\n",
       "      <td>27 Jun 2016</td>\n",
       "    </tr>\n",
       "    <tr>\n",
       "      <th>4</th>\n",
       "      <td>Western Downs Regional Council</td>\n",
       "      <td>AUS</td>\n",
       "      <td>9640000</td>\n",
       "      <td>USD</td>\n",
       "      <td>BG Group Ltd</td>\n",
       "      <td>3690065</td>\n",
       "      <td>2015-12-31</td>\n",
       "      <td>1</td>\n",
       "      <td>NaN</td>\n",
       "      <td>Extractives Report</td>\n",
       "      <td>NaN</td>\n",
       "      <td>27 Jun 2016</td>\n",
       "    </tr>\n",
       "    <tr>\n",
       "      <th>5</th>\n",
       "      <td>Western Downs Regional Council</td>\n",
       "      <td>AUS</td>\n",
       "      <td>19263000</td>\n",
       "      <td>USD</td>\n",
       "      <td>BG Group Ltd</td>\n",
       "      <td>3690065</td>\n",
       "      <td>2015-12-31</td>\n",
       "      <td>1</td>\n",
       "      <td>NaN</td>\n",
       "      <td>Extractives Report</td>\n",
       "      <td>NaN</td>\n",
       "      <td>27 Jun 2016</td>\n",
       "    </tr>\n",
       "    <tr>\n",
       "      <th>38</th>\n",
       "      <td>Her Majesty's Revenue &amp; Customs</td>\n",
       "      <td>GBR</td>\n",
       "      <td>406462000</td>\n",
       "      <td>USD</td>\n",
       "      <td>BG Group Ltd</td>\n",
       "      <td>3690065</td>\n",
       "      <td>2015-12-31</td>\n",
       "      <td>1</td>\n",
       "      <td>NaN</td>\n",
       "      <td>Extractives Report</td>\n",
       "      <td>NaN</td>\n",
       "      <td>27 Jun 2016</td>\n",
       "    </tr>\n",
       "    <tr>\n",
       "      <th>39</th>\n",
       "      <td>Department of Energy and Climate Change</td>\n",
       "      <td>GBR</td>\n",
       "      <td>1562000</td>\n",
       "      <td>USD</td>\n",
       "      <td>BG Group Ltd</td>\n",
       "      <td>3690065</td>\n",
       "      <td>2015-12-31</td>\n",
       "      <td>1</td>\n",
       "      <td>NaN</td>\n",
       "      <td>Extractives Report</td>\n",
       "      <td>NaN</td>\n",
       "      <td>27 Jun 2016</td>\n",
       "    </tr>\n",
       "  </tbody>\n",
       "</table>\n",
       "</div>"
      ],
      "text/plain": [
       "                                   Government CountryCode     Amount Currency  \\\n",
       "0                     Office of State Revenue         AUS    2936000      USD   \n",
       "2                       Queensland Government         AUS    3964000      USD   \n",
       "3   Department of Natural Resources and Mines         AUS    2655000      USD   \n",
       "4              Western Downs Regional Council         AUS    9640000      USD   \n",
       "5              Western Downs Regional Council         AUS   19263000      USD   \n",
       "38            Her Majesty's Revenue & Customs         GBR  406462000      USD   \n",
       "39    Department of Energy and Climate Change         GBR    1562000      USD   \n",
       "\n",
       "     CompanyName  CompanyNumber ReportEndDate  Version Notes  \\\n",
       "0   BG Group Ltd        3690065    2015-12-31        1   NaN   \n",
       "2   BG Group Ltd        3690065    2015-12-31        1   NaN   \n",
       "3   BG Group Ltd        3690065    2015-12-31        1   NaN   \n",
       "4   BG Group Ltd        3690065    2015-12-31        1   NaN   \n",
       "5   BG Group Ltd        3690065    2015-12-31        1   NaN   \n",
       "38  BG Group Ltd        3690065    2015-12-31        1   NaN   \n",
       "39  BG Group Ltd        3690065    2015-12-31        1   NaN   \n",
       "\n",
       "            ReportName  ReportNotes   FilingDate  \n",
       "0   Extractives Report          NaN  27 Jun 2016  \n",
       "2   Extractives Report          NaN  27 Jun 2016  \n",
       "3   Extractives Report          NaN  27 Jun 2016  \n",
       "4   Extractives Report          NaN  27 Jun 2016  \n",
       "5   Extractives Report          NaN  27 Jun 2016  \n",
       "38  Extractives Report          NaN  27 Jun 2016  \n",
       "39  Extractives Report          NaN  27 Jun 2016  "
      ]
     },
     "execution_count": 61,
     "metadata": {},
     "output_type": "execute_result"
    }
   ],
   "source": [
    "# Filter for payments to Australia over a million or payments to Great Britain over 500,000\n",
    "mydata_AUS_overmillion_GBR_500K = mydata.loc[((mydata[\"CountryCode\"] == \"AUS\") & (mydata[\"Amount\"] > 1000000))\n",
    "                                             | ((mydata[\"CountryCode\"] == \"GBR\") & (mydata[\"Amount\"] > 500000))]\n",
    "mydata_AUS_overmillion_GBR_500K"
   ]
  },
  {
   "cell_type": "markdown",
   "metadata": {},
   "source": [
    "# 3. Combine Data from all 3 CSVs"
   ]
  },
  {
   "cell_type": "markdown",
   "metadata": {},
   "source": [
    "Python, together with the Pandas library, can be used to combine data in many kinds of ways. We will look at a very simple example of this by combing 3 seperate CSV files together.\n",
    "\n",
    "First we read them and assign to 3 different variables."
   ]
  },
  {
   "cell_type": "code",
   "execution_count": 62,
   "metadata": {
    "collapsed": true
   },
   "outputs": [],
   "source": [
    "bg_data = pd.read_csv('data/government-totals-bg-group-ltd-2015.csv')\n",
    "glencore_data = pd.read_csv('data/government-totals-glencore-plc-2015.csv')\n",
    "shell_data = pd.read_csv('data/government-totals-royal-dutch-shell-plc-2015.csv')"
   ]
  },
  {
   "cell_type": "markdown",
   "metadata": {},
   "source": [
    "Next, we assemble the three varibles into a grouping that is called a 'list' in Python. Is is built by like this `[put,the,things,you,want,to,list,in,square,brackets,seperated,by,commas]`"
   ]
  },
  {
   "cell_type": "code",
   "execution_count": 63,
   "metadata": {
    "collapsed": true
   },
   "outputs": [],
   "source": [
    "data_to_combine = [bg_data, glencore_data, shell_data]"
   ]
  },
  {
   "cell_type": "markdown",
   "metadata": {},
   "source": [
    "This is where we actually combine the data from the CSV files, using Pandas' `.concat()` function, which stands for concatenate."
   ]
  },
  {
   "cell_type": "code",
   "execution_count": 64,
   "metadata": {
    "collapsed": true
   },
   "outputs": [],
   "source": [
    "combined_data = pd.concat(data_to_combine)"
   ]
  },
  {
   "cell_type": "markdown",
   "metadata": {},
   "source": [
    "Now we check if the new `combined_data` DataFrame is the actual result we want by calling up its first 5 and last 5 rows. We have seen the `.head()` function earlier, but there is also a `.tail()` function that looks up the bottommost rows."
   ]
  },
  {
   "cell_type": "code",
   "execution_count": 65,
   "metadata": {
    "collapsed": false
   },
   "outputs": [
    {
     "data": {
      "text/html": [
       "<div>\n",
       "<table border=\"1\" class=\"dataframe\">\n",
       "  <thead>\n",
       "    <tr style=\"text-align: right;\">\n",
       "      <th></th>\n",
       "      <th>Government</th>\n",
       "      <th>CountryCode</th>\n",
       "      <th>Amount</th>\n",
       "      <th>Currency</th>\n",
       "      <th>CompanyName</th>\n",
       "      <th>CompanyNumber</th>\n",
       "      <th>ReportEndDate</th>\n",
       "      <th>Version</th>\n",
       "      <th>Notes</th>\n",
       "      <th>ReportName</th>\n",
       "      <th>ReportNotes</th>\n",
       "      <th>FilingDate</th>\n",
       "    </tr>\n",
       "  </thead>\n",
       "  <tbody>\n",
       "    <tr>\n",
       "      <th>0</th>\n",
       "      <td>Office of State Revenue</td>\n",
       "      <td>AUS</td>\n",
       "      <td>2936000</td>\n",
       "      <td>USD</td>\n",
       "      <td>BG Group Ltd</td>\n",
       "      <td>3690065.0</td>\n",
       "      <td>2015-12-31</td>\n",
       "      <td>1</td>\n",
       "      <td>NaN</td>\n",
       "      <td>Extractives Report</td>\n",
       "      <td>NaN</td>\n",
       "      <td>27 Jun 2016</td>\n",
       "    </tr>\n",
       "    <tr>\n",
       "      <th>1</th>\n",
       "      <td>Office of State Revenue</td>\n",
       "      <td>AUS</td>\n",
       "      <td>793000</td>\n",
       "      <td>USD</td>\n",
       "      <td>BG Group Ltd</td>\n",
       "      <td>3690065.0</td>\n",
       "      <td>2015-12-31</td>\n",
       "      <td>1</td>\n",
       "      <td>NaN</td>\n",
       "      <td>Extractives Report</td>\n",
       "      <td>NaN</td>\n",
       "      <td>27 Jun 2016</td>\n",
       "    </tr>\n",
       "    <tr>\n",
       "      <th>2</th>\n",
       "      <td>Queensland Government</td>\n",
       "      <td>AUS</td>\n",
       "      <td>3964000</td>\n",
       "      <td>USD</td>\n",
       "      <td>BG Group Ltd</td>\n",
       "      <td>3690065.0</td>\n",
       "      <td>2015-12-31</td>\n",
       "      <td>1</td>\n",
       "      <td>NaN</td>\n",
       "      <td>Extractives Report</td>\n",
       "      <td>NaN</td>\n",
       "      <td>27 Jun 2016</td>\n",
       "    </tr>\n",
       "    <tr>\n",
       "      <th>3</th>\n",
       "      <td>Department of Natural Resources and Mines</td>\n",
       "      <td>AUS</td>\n",
       "      <td>2655000</td>\n",
       "      <td>USD</td>\n",
       "      <td>BG Group Ltd</td>\n",
       "      <td>3690065.0</td>\n",
       "      <td>2015-12-31</td>\n",
       "      <td>1</td>\n",
       "      <td>NaN</td>\n",
       "      <td>Extractives Report</td>\n",
       "      <td>NaN</td>\n",
       "      <td>27 Jun 2016</td>\n",
       "    </tr>\n",
       "    <tr>\n",
       "      <th>4</th>\n",
       "      <td>Western Downs Regional Council</td>\n",
       "      <td>AUS</td>\n",
       "      <td>9640000</td>\n",
       "      <td>USD</td>\n",
       "      <td>BG Group Ltd</td>\n",
       "      <td>3690065.0</td>\n",
       "      <td>2015-12-31</td>\n",
       "      <td>1</td>\n",
       "      <td>NaN</td>\n",
       "      <td>Extractives Report</td>\n",
       "      <td>NaN</td>\n",
       "      <td>27 Jun 2016</td>\n",
       "    </tr>\n",
       "  </tbody>\n",
       "</table>\n",
       "</div>"
      ],
      "text/plain": [
       "                                  Government CountryCode   Amount Currency  \\\n",
       "0                    Office of State Revenue         AUS  2936000      USD   \n",
       "1                    Office of State Revenue         AUS   793000      USD   \n",
       "2                      Queensland Government         AUS  3964000      USD   \n",
       "3  Department of Natural Resources and Mines         AUS  2655000      USD   \n",
       "4             Western Downs Regional Council         AUS  9640000      USD   \n",
       "\n",
       "    CompanyName  CompanyNumber ReportEndDate  Version Notes  \\\n",
       "0  BG Group Ltd      3690065.0    2015-12-31        1   NaN   \n",
       "1  BG Group Ltd      3690065.0    2015-12-31        1   NaN   \n",
       "2  BG Group Ltd      3690065.0    2015-12-31        1   NaN   \n",
       "3  BG Group Ltd      3690065.0    2015-12-31        1   NaN   \n",
       "4  BG Group Ltd      3690065.0    2015-12-31        1   NaN   \n",
       "\n",
       "           ReportName  ReportNotes   FilingDate  \n",
       "0  Extractives Report          NaN  27 Jun 2016  \n",
       "1  Extractives Report          NaN  27 Jun 2016  \n",
       "2  Extractives Report          NaN  27 Jun 2016  \n",
       "3  Extractives Report          NaN  27 Jun 2016  \n",
       "4  Extractives Report          NaN  27 Jun 2016  "
      ]
     },
     "execution_count": 65,
     "metadata": {},
     "output_type": "execute_result"
    }
   ],
   "source": [
    "combined_data.head(5)"
   ]
  },
  {
   "cell_type": "code",
   "execution_count": 66,
   "metadata": {
    "collapsed": false
   },
   "outputs": [
    {
     "data": {
      "text/html": [
       "<div>\n",
       "<table border=\"1\" class=\"dataframe\">\n",
       "  <thead>\n",
       "    <tr style=\"text-align: right;\">\n",
       "      <th></th>\n",
       "      <th>Government</th>\n",
       "      <th>CountryCode</th>\n",
       "      <th>Amount</th>\n",
       "      <th>Currency</th>\n",
       "      <th>CompanyName</th>\n",
       "      <th>CompanyNumber</th>\n",
       "      <th>ReportEndDate</th>\n",
       "      <th>Version</th>\n",
       "      <th>Notes</th>\n",
       "      <th>ReportName</th>\n",
       "      <th>ReportNotes</th>\n",
       "      <th>FilingDate</th>\n",
       "    </tr>\n",
       "  </thead>\n",
       "  <tbody>\n",
       "    <tr>\n",
       "      <th>100</th>\n",
       "      <td>DANISH ENERGY AGENCY</td>\n",
       "      <td>DNK</td>\n",
       "      <td>30576894</td>\n",
       "      <td>USD</td>\n",
       "      <td>ROYAL DUTCH SHELL PLC</td>\n",
       "      <td>4366849.0</td>\n",
       "      <td>2015-12-31</td>\n",
       "      <td>1</td>\n",
       "      <td>NaN</td>\n",
       "      <td>Extractive Industry Reporting</td>\n",
       "      <td>NaN</td>\n",
       "      <td>18 Apr 2016</td>\n",
       "    </tr>\n",
       "    <tr>\n",
       "      <th>101</th>\n",
       "      <td>KIPOHTAKAW MANAGEMENT CORP - ALEXANDER FIRST N...</td>\n",
       "      <td>CAN</td>\n",
       "      <td>359982</td>\n",
       "      <td>USD</td>\n",
       "      <td>ROYAL DUTCH SHELL PLC</td>\n",
       "      <td>4366849.0</td>\n",
       "      <td>2015-12-31</td>\n",
       "      <td>1</td>\n",
       "      <td>NaN</td>\n",
       "      <td>Extractive Industry Reporting</td>\n",
       "      <td>NaN</td>\n",
       "      <td>18 Apr 2016</td>\n",
       "    </tr>\n",
       "    <tr>\n",
       "      <th>102</th>\n",
       "      <td>TAX AUTHORITIES</td>\n",
       "      <td>DNK</td>\n",
       "      <td>545571528</td>\n",
       "      <td>USD</td>\n",
       "      <td>ROYAL DUTCH SHELL PLC</td>\n",
       "      <td>4366849.0</td>\n",
       "      <td>2015-12-31</td>\n",
       "      <td>1</td>\n",
       "      <td>NaN</td>\n",
       "      <td>Extractive Industry Reporting</td>\n",
       "      <td>NaN</td>\n",
       "      <td>18 Apr 2016</td>\n",
       "    </tr>\n",
       "    <tr>\n",
       "      <th>103</th>\n",
       "      <td>TAX AUTHORITIES HAMBURG</td>\n",
       "      <td>DEU</td>\n",
       "      <td>4404123</td>\n",
       "      <td>USD</td>\n",
       "      <td>ROYAL DUTCH SHELL PLC</td>\n",
       "      <td>4366849.0</td>\n",
       "      <td>2015-12-31</td>\n",
       "      <td>1</td>\n",
       "      <td>NaN</td>\n",
       "      <td>Extractive Industry Reporting</td>\n",
       "      <td>NaN</td>\n",
       "      <td>18 Apr 2016</td>\n",
       "    </tr>\n",
       "    <tr>\n",
       "      <th>104</th>\n",
       "      <td>MINISTRY OF ENERGY AND MINERAL RESOURCES</td>\n",
       "      <td>JOR</td>\n",
       "      <td>3000000</td>\n",
       "      <td>USD</td>\n",
       "      <td>ROYAL DUTCH SHELL PLC</td>\n",
       "      <td>4366849.0</td>\n",
       "      <td>2015-12-31</td>\n",
       "      <td>1</td>\n",
       "      <td>NaN</td>\n",
       "      <td>Extractive Industry Reporting</td>\n",
       "      <td>NaN</td>\n",
       "      <td>18 Apr 2016</td>\n",
       "    </tr>\n",
       "  </tbody>\n",
       "</table>\n",
       "</div>"
      ],
      "text/plain": [
       "                                            Government CountryCode     Amount  \\\n",
       "100                               DANISH ENERGY AGENCY         DNK   30576894   \n",
       "101  KIPOHTAKAW MANAGEMENT CORP - ALEXANDER FIRST N...         CAN     359982   \n",
       "102                                    TAX AUTHORITIES         DNK  545571528   \n",
       "103                            TAX AUTHORITIES HAMBURG         DEU    4404123   \n",
       "104           MINISTRY OF ENERGY AND MINERAL RESOURCES         JOR    3000000   \n",
       "\n",
       "    Currency            CompanyName  CompanyNumber ReportEndDate  Version  \\\n",
       "100      USD  ROYAL DUTCH SHELL PLC      4366849.0    2015-12-31        1   \n",
       "101      USD  ROYAL DUTCH SHELL PLC      4366849.0    2015-12-31        1   \n",
       "102      USD  ROYAL DUTCH SHELL PLC      4366849.0    2015-12-31        1   \n",
       "103      USD  ROYAL DUTCH SHELL PLC      4366849.0    2015-12-31        1   \n",
       "104      USD  ROYAL DUTCH SHELL PLC      4366849.0    2015-12-31        1   \n",
       "\n",
       "    Notes                     ReportName  ReportNotes   FilingDate  \n",
       "100   NaN  Extractive Industry Reporting          NaN  18 Apr 2016  \n",
       "101   NaN  Extractive Industry Reporting          NaN  18 Apr 2016  \n",
       "102   NaN  Extractive Industry Reporting          NaN  18 Apr 2016  \n",
       "103   NaN  Extractive Industry Reporting          NaN  18 Apr 2016  \n",
       "104   NaN  Extractive Industry Reporting          NaN  18 Apr 2016  "
      ]
     },
     "execution_count": 66,
     "metadata": {},
     "output_type": "execute_result"
    }
   ],
   "source": [
    "combined_data.tail(5)"
   ]
  },
  {
   "cell_type": "markdown",
   "metadata": {},
   "source": [
    "Looks like we have rows corresponding to payments made by at least two companies: BG Group and Royal Dutch Shell.\n",
    "\n",
    "Let's see which of what payments those companies made to Australia by creating the following filter."
   ]
  },
  {
   "cell_type": "code",
   "execution_count": 67,
   "metadata": {
    "collapsed": true
   },
   "outputs": [],
   "source": [
    "combined_data_AUS = combined_data[combined_data[\"CountryCode\"] == \"AUS\"]"
   ]
  },
  {
   "cell_type": "code",
   "execution_count": 68,
   "metadata": {
    "collapsed": false
   },
   "outputs": [
    {
     "data": {
      "text/html": [
       "<div>\n",
       "<table border=\"1\" class=\"dataframe\">\n",
       "  <thead>\n",
       "    <tr style=\"text-align: right;\">\n",
       "      <th></th>\n",
       "      <th>Government</th>\n",
       "      <th>CountryCode</th>\n",
       "      <th>Amount</th>\n",
       "      <th>Currency</th>\n",
       "      <th>CompanyName</th>\n",
       "      <th>CompanyNumber</th>\n",
       "      <th>ReportEndDate</th>\n",
       "      <th>Version</th>\n",
       "      <th>Notes</th>\n",
       "      <th>ReportName</th>\n",
       "      <th>ReportNotes</th>\n",
       "      <th>FilingDate</th>\n",
       "    </tr>\n",
       "  </thead>\n",
       "  <tbody>\n",
       "    <tr>\n",
       "      <th>0</th>\n",
       "      <td>Office of State Revenue</td>\n",
       "      <td>AUS</td>\n",
       "      <td>2936000</td>\n",
       "      <td>USD</td>\n",
       "      <td>BG Group Ltd</td>\n",
       "      <td>3690065.0</td>\n",
       "      <td>2015-12-31</td>\n",
       "      <td>1</td>\n",
       "      <td>NaN</td>\n",
       "      <td>Extractives Report</td>\n",
       "      <td>NaN</td>\n",
       "      <td>27 Jun 2016</td>\n",
       "    </tr>\n",
       "    <tr>\n",
       "      <th>1</th>\n",
       "      <td>Office of State Revenue</td>\n",
       "      <td>AUS</td>\n",
       "      <td>793000</td>\n",
       "      <td>USD</td>\n",
       "      <td>BG Group Ltd</td>\n",
       "      <td>3690065.0</td>\n",
       "      <td>2015-12-31</td>\n",
       "      <td>1</td>\n",
       "      <td>NaN</td>\n",
       "      <td>Extractives Report</td>\n",
       "      <td>NaN</td>\n",
       "      <td>27 Jun 2016</td>\n",
       "    </tr>\n",
       "    <tr>\n",
       "      <th>2</th>\n",
       "      <td>Queensland Government</td>\n",
       "      <td>AUS</td>\n",
       "      <td>3964000</td>\n",
       "      <td>USD</td>\n",
       "      <td>BG Group Ltd</td>\n",
       "      <td>3690065.0</td>\n",
       "      <td>2015-12-31</td>\n",
       "      <td>1</td>\n",
       "      <td>NaN</td>\n",
       "      <td>Extractives Report</td>\n",
       "      <td>NaN</td>\n",
       "      <td>27 Jun 2016</td>\n",
       "    </tr>\n",
       "    <tr>\n",
       "      <th>3</th>\n",
       "      <td>Department of Natural Resources and Mines</td>\n",
       "      <td>AUS</td>\n",
       "      <td>2655000</td>\n",
       "      <td>USD</td>\n",
       "      <td>BG Group Ltd</td>\n",
       "      <td>3690065.0</td>\n",
       "      <td>2015-12-31</td>\n",
       "      <td>1</td>\n",
       "      <td>NaN</td>\n",
       "      <td>Extractives Report</td>\n",
       "      <td>NaN</td>\n",
       "      <td>27 Jun 2016</td>\n",
       "    </tr>\n",
       "    <tr>\n",
       "      <th>4</th>\n",
       "      <td>Western Downs Regional Council</td>\n",
       "      <td>AUS</td>\n",
       "      <td>9640000</td>\n",
       "      <td>USD</td>\n",
       "      <td>BG Group Ltd</td>\n",
       "      <td>3690065.0</td>\n",
       "      <td>2015-12-31</td>\n",
       "      <td>1</td>\n",
       "      <td>NaN</td>\n",
       "      <td>Extractives Report</td>\n",
       "      <td>NaN</td>\n",
       "      <td>27 Jun 2016</td>\n",
       "    </tr>\n",
       "    <tr>\n",
       "      <th>5</th>\n",
       "      <td>Western Downs Regional Council</td>\n",
       "      <td>AUS</td>\n",
       "      <td>19263000</td>\n",
       "      <td>USD</td>\n",
       "      <td>BG Group Ltd</td>\n",
       "      <td>3690065.0</td>\n",
       "      <td>2015-12-31</td>\n",
       "      <td>1</td>\n",
       "      <td>NaN</td>\n",
       "      <td>Extractives Report</td>\n",
       "      <td>NaN</td>\n",
       "      <td>27 Jun 2016</td>\n",
       "    </tr>\n",
       "    <tr>\n",
       "      <th>6</th>\n",
       "      <td>Toowoomba Regional Council</td>\n",
       "      <td>AUS</td>\n",
       "      <td>846000</td>\n",
       "      <td>USD</td>\n",
       "      <td>BG Group Ltd</td>\n",
       "      <td>3690065.0</td>\n",
       "      <td>2015-12-31</td>\n",
       "      <td>1</td>\n",
       "      <td>NaN</td>\n",
       "      <td>Extractives Report</td>\n",
       "      <td>NaN</td>\n",
       "      <td>27 Jun 2016</td>\n",
       "    </tr>\n",
       "    <tr>\n",
       "      <th>7</th>\n",
       "      <td>North Burnett Regional Council</td>\n",
       "      <td>AUS</td>\n",
       "      <td>122000</td>\n",
       "      <td>USD</td>\n",
       "      <td>BG Group Ltd</td>\n",
       "      <td>3690065.0</td>\n",
       "      <td>2015-12-31</td>\n",
       "      <td>1</td>\n",
       "      <td>NaN</td>\n",
       "      <td>Extractives Report</td>\n",
       "      <td>NaN</td>\n",
       "      <td>27 Jun 2016</td>\n",
       "    </tr>\n",
       "    <tr>\n",
       "      <th>8</th>\n",
       "      <td>Banana Shire Council</td>\n",
       "      <td>AUS</td>\n",
       "      <td>506000</td>\n",
       "      <td>USD</td>\n",
       "      <td>BG Group Ltd</td>\n",
       "      <td>3690065.0</td>\n",
       "      <td>2015-12-31</td>\n",
       "      <td>1</td>\n",
       "      <td>NaN</td>\n",
       "      <td>Extractives Report</td>\n",
       "      <td>NaN</td>\n",
       "      <td>27 Jun 2016</td>\n",
       "    </tr>\n",
       "    <tr>\n",
       "      <th>4</th>\n",
       "      <td>Australia - National</td>\n",
       "      <td>AUS</td>\n",
       "      <td>66195278</td>\n",
       "      <td>USD</td>\n",
       "      <td>Glencore plc</td>\n",
       "      <td>NaN</td>\n",
       "      <td>2015-12-31</td>\n",
       "      <td>1</td>\n",
       "      <td>NaN</td>\n",
       "      <td>Extractives Report</td>\n",
       "      <td>NaN</td>\n",
       "      <td>29 Aug 2016</td>\n",
       "    </tr>\n",
       "    <tr>\n",
       "      <th>5</th>\n",
       "      <td>Australia - Regional - New South Wales</td>\n",
       "      <td>AUS</td>\n",
       "      <td>250816074</td>\n",
       "      <td>USD</td>\n",
       "      <td>Glencore plc</td>\n",
       "      <td>NaN</td>\n",
       "      <td>2015-12-31</td>\n",
       "      <td>1</td>\n",
       "      <td>NaN</td>\n",
       "      <td>Extractives Report</td>\n",
       "      <td>NaN</td>\n",
       "      <td>29 Aug 2016</td>\n",
       "    </tr>\n",
       "    <tr>\n",
       "      <th>6</th>\n",
       "      <td>Australia - Regional - Northern Territory</td>\n",
       "      <td>AUS</td>\n",
       "      <td>811828</td>\n",
       "      <td>USD</td>\n",
       "      <td>Glencore plc</td>\n",
       "      <td>NaN</td>\n",
       "      <td>2015-12-31</td>\n",
       "      <td>1</td>\n",
       "      <td>NaN</td>\n",
       "      <td>Extractives Report</td>\n",
       "      <td>NaN</td>\n",
       "      <td>29 Aug 2016</td>\n",
       "    </tr>\n",
       "    <tr>\n",
       "      <th>7</th>\n",
       "      <td>Australia - Regional - Queensland</td>\n",
       "      <td>AUS</td>\n",
       "      <td>152418792</td>\n",
       "      <td>USD</td>\n",
       "      <td>Glencore plc</td>\n",
       "      <td>NaN</td>\n",
       "      <td>2015-12-31</td>\n",
       "      <td>1</td>\n",
       "      <td>NaN</td>\n",
       "      <td>Extractives Report</td>\n",
       "      <td>NaN</td>\n",
       "      <td>29 Aug 2016</td>\n",
       "    </tr>\n",
       "    <tr>\n",
       "      <th>8</th>\n",
       "      <td>Australia - Regional - Western Australia</td>\n",
       "      <td>AUS</td>\n",
       "      <td>14809657</td>\n",
       "      <td>USD</td>\n",
       "      <td>Glencore plc</td>\n",
       "      <td>NaN</td>\n",
       "      <td>2015-12-31</td>\n",
       "      <td>1</td>\n",
       "      <td>NaN</td>\n",
       "      <td>Extractives Report</td>\n",
       "      <td>NaN</td>\n",
       "      <td>29 Aug 2016</td>\n",
       "    </tr>\n",
       "    <tr>\n",
       "      <th>9</th>\n",
       "      <td>Australia - Local -  Muswellbrook Shire Council</td>\n",
       "      <td>AUS</td>\n",
       "      <td>1020979</td>\n",
       "      <td>USD</td>\n",
       "      <td>Glencore plc</td>\n",
       "      <td>NaN</td>\n",
       "      <td>2015-12-31</td>\n",
       "      <td>1</td>\n",
       "      <td>NaN</td>\n",
       "      <td>Extractives Report</td>\n",
       "      <td>NaN</td>\n",
       "      <td>29 Aug 2016</td>\n",
       "    </tr>\n",
       "    <tr>\n",
       "      <th>10</th>\n",
       "      <td>Australia - Local - Singleton Shire Council</td>\n",
       "      <td>AUS</td>\n",
       "      <td>17049835</td>\n",
       "      <td>USD</td>\n",
       "      <td>Glencore plc</td>\n",
       "      <td>NaN</td>\n",
       "      <td>2015-12-31</td>\n",
       "      <td>1</td>\n",
       "      <td>NaN</td>\n",
       "      <td>Extractives Report</td>\n",
       "      <td>NaN</td>\n",
       "      <td>29 Aug 2016</td>\n",
       "    </tr>\n",
       "    <tr>\n",
       "      <th>3</th>\n",
       "      <td>AUSTRALIAN TAXATION OFFICE</td>\n",
       "      <td>AUS</td>\n",
       "      <td>757694007</td>\n",
       "      <td>USD</td>\n",
       "      <td>ROYAL DUTCH SHELL PLC</td>\n",
       "      <td>4366849.0</td>\n",
       "      <td>2015-12-31</td>\n",
       "      <td>1</td>\n",
       "      <td>NaN</td>\n",
       "      <td>Extractive Industry Reporting</td>\n",
       "      <td>NaN</td>\n",
       "      <td>18 Apr 2016</td>\n",
       "    </tr>\n",
       "    <tr>\n",
       "      <th>21</th>\n",
       "      <td>DEPARTMENT OF INDUSTRY</td>\n",
       "      <td>AUS</td>\n",
       "      <td>120439264</td>\n",
       "      <td>USD</td>\n",
       "      <td>ROYAL DUTCH SHELL PLC</td>\n",
       "      <td>4366849.0</td>\n",
       "      <td>2015-12-31</td>\n",
       "      <td>1</td>\n",
       "      <td>NaN</td>\n",
       "      <td>Extractive Industry Reporting</td>\n",
       "      <td>NaN</td>\n",
       "      <td>18 Apr 2016</td>\n",
       "    </tr>\n",
       "  </tbody>\n",
       "</table>\n",
       "</div>"
      ],
      "text/plain": [
       "                                         Government CountryCode     Amount  \\\n",
       "0                           Office of State Revenue         AUS    2936000   \n",
       "1                           Office of State Revenue         AUS     793000   \n",
       "2                             Queensland Government         AUS    3964000   \n",
       "3         Department of Natural Resources and Mines         AUS    2655000   \n",
       "4                    Western Downs Regional Council         AUS    9640000   \n",
       "5                    Western Downs Regional Council         AUS   19263000   \n",
       "6                        Toowoomba Regional Council         AUS     846000   \n",
       "7                    North Burnett Regional Council         AUS     122000   \n",
       "8                              Banana Shire Council         AUS     506000   \n",
       "4                              Australia - National         AUS   66195278   \n",
       "5            Australia - Regional - New South Wales         AUS  250816074   \n",
       "6         Australia - Regional - Northern Territory         AUS     811828   \n",
       "7                 Australia - Regional - Queensland         AUS  152418792   \n",
       "8          Australia - Regional - Western Australia         AUS   14809657   \n",
       "9   Australia - Local -  Muswellbrook Shire Council         AUS    1020979   \n",
       "10      Australia - Local - Singleton Shire Council         AUS   17049835   \n",
       "3                        AUSTRALIAN TAXATION OFFICE         AUS  757694007   \n",
       "21                           DEPARTMENT OF INDUSTRY         AUS  120439264   \n",
       "\n",
       "   Currency            CompanyName  CompanyNumber ReportEndDate  Version  \\\n",
       "0       USD           BG Group Ltd      3690065.0    2015-12-31        1   \n",
       "1       USD           BG Group Ltd      3690065.0    2015-12-31        1   \n",
       "2       USD           BG Group Ltd      3690065.0    2015-12-31        1   \n",
       "3       USD           BG Group Ltd      3690065.0    2015-12-31        1   \n",
       "4       USD           BG Group Ltd      3690065.0    2015-12-31        1   \n",
       "5       USD           BG Group Ltd      3690065.0    2015-12-31        1   \n",
       "6       USD           BG Group Ltd      3690065.0    2015-12-31        1   \n",
       "7       USD           BG Group Ltd      3690065.0    2015-12-31        1   \n",
       "8       USD           BG Group Ltd      3690065.0    2015-12-31        1   \n",
       "4       USD           Glencore plc            NaN    2015-12-31        1   \n",
       "5       USD           Glencore plc            NaN    2015-12-31        1   \n",
       "6       USD           Glencore plc            NaN    2015-12-31        1   \n",
       "7       USD           Glencore plc            NaN    2015-12-31        1   \n",
       "8       USD           Glencore plc            NaN    2015-12-31        1   \n",
       "9       USD           Glencore plc            NaN    2015-12-31        1   \n",
       "10      USD           Glencore plc            NaN    2015-12-31        1   \n",
       "3       USD  ROYAL DUTCH SHELL PLC      4366849.0    2015-12-31        1   \n",
       "21      USD  ROYAL DUTCH SHELL PLC      4366849.0    2015-12-31        1   \n",
       "\n",
       "   Notes                     ReportName  ReportNotes   FilingDate  \n",
       "0    NaN             Extractives Report          NaN  27 Jun 2016  \n",
       "1    NaN             Extractives Report          NaN  27 Jun 2016  \n",
       "2    NaN             Extractives Report          NaN  27 Jun 2016  \n",
       "3    NaN             Extractives Report          NaN  27 Jun 2016  \n",
       "4    NaN             Extractives Report          NaN  27 Jun 2016  \n",
       "5    NaN             Extractives Report          NaN  27 Jun 2016  \n",
       "6    NaN             Extractives Report          NaN  27 Jun 2016  \n",
       "7    NaN             Extractives Report          NaN  27 Jun 2016  \n",
       "8    NaN             Extractives Report          NaN  27 Jun 2016  \n",
       "4    NaN             Extractives Report          NaN  29 Aug 2016  \n",
       "5    NaN             Extractives Report          NaN  29 Aug 2016  \n",
       "6    NaN             Extractives Report          NaN  29 Aug 2016  \n",
       "7    NaN             Extractives Report          NaN  29 Aug 2016  \n",
       "8    NaN             Extractives Report          NaN  29 Aug 2016  \n",
       "9    NaN             Extractives Report          NaN  29 Aug 2016  \n",
       "10   NaN             Extractives Report          NaN  29 Aug 2016  \n",
       "3    NaN  Extractive Industry Reporting          NaN  18 Apr 2016  \n",
       "21   NaN  Extractive Industry Reporting          NaN  18 Apr 2016  "
      ]
     },
     "execution_count": 68,
     "metadata": {},
     "output_type": "execute_result"
    }
   ],
   "source": [
    "combined_data_AUS"
   ]
  },
  {
   "cell_type": "code",
   "execution_count": 69,
   "metadata": {
    "collapsed": false
   },
   "outputs": [
    {
     "data": {
      "text/plain": [
       "count    1.800000e+01\n",
       "mean     7.899893e+07\n",
       "std      1.827569e+08\n",
       "min      1.220000e+05\n",
       "25%      8.897448e+05\n",
       "50%      6.802000e+06\n",
       "75%      5.446221e+07\n",
       "max      7.576940e+08\n",
       "Name: Amount, dtype: float64"
      ]
     },
     "execution_count": 69,
     "metadata": {},
     "output_type": "execute_result"
    }
   ],
   "source": [
    "combined_data_AUS[\"Amount\"].describe()"
   ]
  },
  {
   "cell_type": "code",
   "execution_count": 70,
   "metadata": {
    "collapsed": false
   },
   "outputs": [
    {
     "data": {
      "text/plain": [
       "1421980714"
      ]
     },
     "execution_count": 70,
     "metadata": {},
     "output_type": "execute_result"
    }
   ],
   "source": [
    "combined_data_AUS[\"Amount\"].sum()"
   ]
  },
  {
   "cell_type": "markdown",
   "metadata": {},
   "source": [
    "Even with these simple commands, we can use Python to do a lot of the simple filtering and analysing that we usually do in Excel. We will look at doing more in depth analysis of datasets in another tutorial. "
   ]
  },
  {
   "cell_type": "markdown",
   "metadata": {},
   "source": [
    "### Exporting a CSV file"
   ]
  },
  {
   "cell_type": "markdown",
   "metadata": {},
   "source": [
    "Now that we have successfully read CSV files into Python and combine multiple files, let's see how we can export a DataFrame as a CSV file. "
   ]
  },
  {
   "cell_type": "code",
   "execution_count": 74,
   "metadata": {
    "collapsed": false
   },
   "outputs": [],
   "source": [
    "combined_data.to_csv('BG_Glencore_Shell.csv', sep=',')"
   ]
  },
  {
   "cell_type": "markdown",
   "metadata": {},
   "source": [
    "DataFrames in Pandas have a built in funciton called `.to_csv()` which exports the DataFrame as a CSV file.\n",
    "\n",
    "After you execute that code cell, you will find a CSV file names `BG_Glencore_Shell.csv` in the same folder as your Jupyter notebook. "
   ]
  },
  {
   "cell_type": "markdown",
   "metadata": {},
   "source": [
    "### Now for a small aside on functions in Python\n",
    "\n",
    ">  Unlike the times we used functions above where we only put one thing inside the `( )`, now we have two things: `'BG_Glencore_Shell.csv'`, and `sep=','`. These things are called 'arguments' to a function. It specifies what exactly you want the function to do. Usually functions have default settings that you can customize by putting in your own values for specific arguments. \n",
    "\n",
    "> If you are familiar with functions in Excel, it works in the same way. For example, the widely used `VLOOKUP` function is structured as follows: `VLOOKUP(lookup_value,table_array,col_index_num,range_lookup)`\n",
    "\n",
    "> There are 4 possible arguments for the `VLOOKUP` function, lookup_value, table_array, col_index_num, range_lookup. Out of those, the first 3 don't have default values (you have to put in your own values for those), but the last one, `range_lookup`, does. It has a default value of `TRUE` even if you don't put in anything for it.\n",
    "\n",
    "> Similarly, for functions in Python, there are also arguments with and without default values. If you look up the [official documentation of the `.to_csv` function](https://pandas.pydata.org/pandas-docs/stable/generated/pandas.DataFrame.to_csv.html), you'll see that there are a total of 20 arguments that you can specify, to control everything from whether or not the CSV file is compressed, to how you want dates to be formatted. The difference between calling functions in Excel and in Python is that in Excel, you have to put in the arguments in the correct order, one after another, but in Python, you can pick and choose which arguments you want to specify, and others that are not specified just filled with their respective default values.\n",
    "\n",
    "> If we look at how we called the `.to_csv()` function above, we put in the first argument, which is the filename, without naming the argument (we can do this because it is in the correct order - the filename is the [first argument in the list for this function](https://pandas.pydata.org/pandas-docs/stable/generated/pandas.DataFrame.to_csv.html)). However, for the second one, we specifically say that we want to set the value of `'sep'` to `','`. What we are specifying here is telling Python that we want the values in the CSV to be seperated by commas. And then for the rest of the 18 arguments for the function, we just let them be the default values.\n",
    "\n",
    "> Just for fun, we can try changing that argument to `sep='+'`. Run this version of the command below, and you will find that the CSV created has values seperated by '+' signs when you open the file, as seen in the screnshot below. You can refer to the [documentation for the function](https://pandas.pydata.org/pandas-docs/stable/generated/pandas.DataFrame.to_csv.html) to experiment with other arguments. Remember, if you don't want to specify the names of the arguments you are setting, you have to put them in the correct order, but if you do want to specify the name of the argument (for example `sep='+'`), you can put them in any order."
   ]
  },
  {
   "cell_type": "code",
   "execution_count": 75,
   "metadata": {
    "collapsed": false
   },
   "outputs": [],
   "source": [
    "combined_data.to_csv('BG_Glencore_Shell_plus.csv', sep='+')"
   ]
  },
  {
   "cell_type": "markdown",
   "metadata": {},
   "source": [
    "> ![plus seperator](https://github.com/yanoak/data-extractors-tutorials/blob/master/python-for-extractives/01_Intro_to_Python/img/plus_seperator.png?raw=true)"
   ]
  },
  {
   "cell_type": "markdown",
   "metadata": {},
   "source": [
    "# 4. Some Simple Charts"
   ]
  },
  {
   "cell_type": "markdown",
   "metadata": {},
   "source": [
    "Next up we will look at the very beginnings of making data visualisations in Python.\n",
    "\n",
    "In this tutorial we will just make a very simple bar chart so that you can get a feel of how making data visualisations in Python works.\n",
    "\n",
    "There are many libraries for creating data visualisations in Python, and [Matplotlib](https://matplotlib.org/) is one of the most well known ones.\n",
    "\n",
    "We import it and give it a short name `plt`.\n",
    "\n",
    "The line `%matplotlib inline` lets Python know that we want to generate the charts right inside this notebook.\n"
   ]
  },
  {
   "cell_type": "code",
   "execution_count": 85,
   "metadata": {
    "collapsed": true
   },
   "outputs": [],
   "source": [
    "%matplotlib inline\n",
    "import matplotlib.pyplot as plt"
   ]
  },
  {
   "cell_type": "markdown",
   "metadata": {},
   "source": [
    "What should we plot? How about we plot a bar chart that sums up the total amount of payments made to the Australian government by the 3 companies in the DataFrame we combined in the previous section: BG Group, Glencore, and Royal Ductch Shell."
   ]
  },
  {
   "cell_type": "markdown",
   "metadata": {},
   "source": [
    "### Creating a pivot table"
   ]
  },
  {
   "cell_type": "markdown",
   "metadata": {},
   "source": [
    "First we have to prepare the data for the plot where we have a neat table that contains the sums of the payments by each of these companies.\n",
    "\n",
    "In Excel, what we would need to create would be a pivot table. The screencast below shows exactly what we would do in Excel.\n",
    "\n",
    "> ![screencast of pivot table in Excel](https://github.com/yanoak/data-extractors-tutorials/blob/master/python-for-extractives/01_Intro_to_Python/img/payments_sum_pivot.gif?raw=true)\n",
    "\n",
    "If you have used pivot tables in Excel, that was a run of the mill thing to to. We open the CSV file we exported in the previous section, create a pivot table, filter for the payments to Australia, set the rows as the company names, and the values as the amounts, which we then choose to sum instead of just count.\n",
    "\n",
    "The values we got in the final pivot table were:\n",
    "- BG Group Ltd = 40725000\n",
    "- Glencore plc = 503122443\n",
    "- ROYAL DUTCH SHELL PLC = 878133271"
   ]
  },
  {
   "cell_type": "markdown",
   "metadata": {},
   "source": [
    "Now, let's try to do the same thing in Python.\n",
    "\n",
    "We started with the `combined_data_AUS` DataFrame that we already created above, and then we call the `.pivot_table()` function with the following arguments:\n",
    "- `index=['CountryCode','CompanyName']` which gives Python the list of fields we want to pivot on\n",
    "- `aggfunc='sum'` which specifies what we want to do with the pivoted values\n",
    "\n",
    "Lastly, we put in the selector `['Amount']` because the sum of the Amounts is the only thing we are interested in. \n",
    "\n",
    "As usual, feel free to experiment, such as not putting in the `['Amount']` thing at the end to see what output you get instead, or looking up the [documentation for the `.pivot_table()` function](https://pandas.pydata.org/pandas-docs/stable/generated/pandas.pivot_table.html) and putting in values for other arguments.\n",
    "\n",
    "When we run that command in a code cell (and assign the resulting pivot table - which is also another DataFrame - to a new variable `AUS_totals)`, we get the same thing we got in Excel:"
   ]
  },
  {
   "cell_type": "code",
   "execution_count": 82,
   "metadata": {
    "collapsed": false
   },
   "outputs": [
    {
     "data": {
      "text/plain": [
       "CountryCode  CompanyName          \n",
       "AUS          BG Group Ltd              40725000\n",
       "             Glencore plc             503122443\n",
       "             ROYAL DUTCH SHELL PLC    878133271\n",
       "Name: Amount, dtype: int64"
      ]
     },
     "execution_count": 82,
     "metadata": {},
     "output_type": "execute_result"
    }
   ],
   "source": [
    "AUS_totals = combined_data_AUS.pivot_table(index=['CountryCode','CompanyName'], aggfunc='sum')['Amount']\n",
    "AUS_totals"
   ]
  },
  {
   "cell_type": "markdown",
   "metadata": {},
   "source": [
    "### Creating bar and pie charts"
   ]
  },
  {
   "cell_type": "markdown",
   "metadata": {},
   "source": [
    "Now that we have prepared the data, let's actually make the chart.\n",
    "\n",
    "We call the `.plot` function, and specify the following arguments, most of which are self-explanatory:\n",
    "- `kind='bar'`\n",
    "- `title ='Australia Totals'`\n",
    "- `figsize=(5,5)` specificies the width and height of the figure in inches\n",
    "- `legend=True` shows a legend\n",
    "- `fontsize=12`"
   ]
  },
  {
   "cell_type": "code",
   "execution_count": 86,
   "metadata": {
    "collapsed": false
   },
   "outputs": [
    {
     "data": {
      "image/png": "[encoded data removed]",
      "text/plain": [
       "<matplotlib.figure.Figure at 0x1076f4050>"
      ]
     },
     "metadata": {},
     "output_type": "display_data"
    }
   ],
   "source": [
    "ax = AUS_totals.plot(kind='bar', title ='Australia Totals',figsize=(5,5),legend=True, fontsize=12)"
   ]
  },
  {
   "cell_type": "markdown",
   "metadata": {},
   "source": [
    "Let's try making a pie chart instead."
   ]
  },
  {
   "cell_type": "code",
   "execution_count": 95,
   "metadata": {
    "collapsed": false
   },
   "outputs": [
    {
     "data": {
      "image/png": "[encoded data removed]",
      "text/plain": [
       "<matplotlib.figure.Figure at 0x10b4cd2d0>"
      ]
     },
     "metadata": {},
     "output_type": "display_data"
    }
   ],
   "source": [
    "ax = AUS_totals.plot(kind='pie', title ='Australia Totals',figsize=(5,5),legend=False, fontsize=12)"
   ]
  },
  {
   "cell_type": "markdown",
   "metadata": {},
   "source": [
    "There is A LOT more where that came from, and in a later tutorial we will learn in detail about data visualization in Python.\n",
    "\n",
    "For now, feel free to experiment as always. To look for documentation on Python and Pandas, [google for 'pandas ``<name of function>``](https://www.google.co.uk/search?q=pandas+.plot)' and usually the first thing to pop up is the page with the official documentation. Sometimes the official documentation is quite difficult to understand, but there are usually questions and answers on [StackOverflow](https://stackoverflow.com/) which can guide you in the right direction."
   ]
  },
  {
   "cell_type": "markdown",
   "metadata": {
    "collapsed": true
   },
   "source": [
    "# 5. Combining all the CSV files in a folder into one dataset"
   ]
  },
  {
   "cell_type": "markdown",
   "metadata": {
    "collapsed": true
   },
   "source": [
    "Now that we have explored some basic functionality of Python and the Pandas library, let's move on to a few examples of how Python scripts can do things that would be very difficult or tedious to do with other software.\n",
    "\n",
    "First, we will build a dataset that combines over 50 CSV files, and next we will produce a series of visualisations from that combined dataset.\n"
   ]
  },
  {
   "cell_type": "markdown",
   "metadata": {},
   "source": [
    "### Reading the contents of a folder"
   ]
  },
  {
   "cell_type": "markdown",
   "metadata": {},
   "source": [
    "The \"glob\" library lets Python read from the computer's file system.\n"
   ]
  },
  {
   "cell_type": "code",
   "execution_count": 97,
   "metadata": {
    "collapsed": true
   },
   "outputs": [],
   "source": [
    "import glob"
   ]
  },
  {
   "cell_type": "markdown",
   "metadata": {},
   "source": [
    "Here we are reading all the files inside the 'data' folder that has the following filename structure: 'government-totals-\\*.csv' <- we use \\* (asterisk) as a placeholder for any text. So 'government-totals-\\*.csv' indicates that we want all file names that start with 'govern-totals-' and ends with '.csv', with anything in between.\n",
    "\n",
    "After executing this command, Python will return all the files that fit that filename format in a list"
   ]
  },
  {
   "cell_type": "code",
   "execution_count": 98,
   "metadata": {
    "collapsed": false
   },
   "outputs": [
    {
     "data": {
      "text/plain": [
       "['data/government-totals-abu-dhabi-marine-areas-limited-2015.csv',\n",
       " 'data/government-totals-acacia-mining-plc-2015.csv',\n",
       " 'data/government-totals-aggregate-industries-uk-limited-2015.csv',\n",
       " 'data/government-totals-anglo-american-plc-2015.csv',\n",
       " 'data/government-totals-anglo-asian-mining-plc-2015.csv',\n",
       " 'data/government-totals-antofagasta-plc-2015.csv',\n",
       " 'data/government-totals-apache-north-sea-production-limited-2015.csv',\n",
       " 'data/government-totals-avocet-mining-plc-2015.csv',\n",
       " 'data/government-totals-bg-group-ltd-2015.csv',\n",
       " 'data/government-totals-bhp-billiton-plc-2016.csv',\n",
       " 'data/government-totals-bisichi-mining-plc-2015.csv',\n",
       " 'data/government-totals-burlington-resources-(irish-sea)-limited-2015.csv',\n",
       " 'data/government-totals-cadogan-petroleum-plc-2015.csv',\n",
       " 'data/government-totals-cairn-energy-plc-2015.csv',\n",
       " 'data/government-totals-centrica-plc-2015.csv',\n",
       " 'data/government-totals-chevron-north-sea-ltd-2015.csv',\n",
       " 'data/government-totals-cnr-international-(u.k.)-investments-limited-(consolidating-cnr-international-uk-limited-and-cnr-international-developments-limited)-2015.csv',\n",
       " 'data/government-totals-conocophillips-(u.k.)-limited-2015.csv',\n",
       " 'data/government-totals-conocophillips-petroleum-company-u.k.-limited-2015.csv',\n",
       " 'data/government-totals-dana-petroleum-limited-2015.csv',\n",
       " 'data/government-totals-endeavour-energy-uk-limited-2015.csv',\n",
       " 'data/government-totals-enquest-plc-2015.csv',\n",
       " 'data/government-totals-equion-energia-limited-2015.csv',\n",
       " 'data/government-totals-esso-exploration-and-production-uk-limited-2015.csv',\n",
       " 'data/government-totals-evraz-plc-2015.csv',\n",
       " 'data/government-totals-ferrexpo-plc-2015.csv',\n",
       " 'data/government-totals-fresnillo-plc-2015.csv',\n",
       " 'data/government-totals-glencore-plc-2015.csv',\n",
       " 'data/government-totals-hills-uk-2016.csv',\n",
       " 'data/government-totals-hochschild-mining-plc-2015.csv',\n",
       " 'data/government-totals-hunting-plc-2015.csv',\n",
       " 'data/government-totals-ithaca-energy-(uk)-ltd-2015.csv',\n",
       " 'data/government-totals-jkx-oil-&-gas-plc-2015.csv',\n",
       " 'data/government-totals-jx-nippon-exploration-and-production-(u.k.)-limited-2015.csv',\n",
       " 'data/government-totals-kaz-minerals-plc-2015.csv',\n",
       " 'data/government-totals-london-&-associated-properties-plc-2015.csv',\n",
       " 'data/government-totals-marathon-oil-west-of-shetlands-limited-2015.csv',\n",
       " 'data/government-totals-mitsui-e&p-uk-limited-2015.csv',\n",
       " 'data/government-totals-mondi-plc-2015.csv',\n",
       " 'data/government-totals-nexen-petroleum-uk-limited-2015.csv',\n",
       " 'data/government-totals-nord-gold-se-2015.csv',\n",
       " 'data/government-totals-nostrum-oil-&-gas-plc-2015.csv',\n",
       " 'data/government-totals-perenco-(oil-&-gas)-international-limited-2015.csv',\n",
       " 'data/government-totals-perenco-oil-&-gas-colombia-limited-2015.csv',\n",
       " 'data/government-totals-perenco-overseas-holdings-limited-2015.csv',\n",
       " 'data/government-totals-perenco-uk-limited-2015.csv',\n",
       " 'data/government-totals-petrolatina-energy-ltd.-(consolidated-group)-2015.csv',\n",
       " 'data/government-totals-petropavlovsk-plc-2015.csv',\n",
       " 'data/government-totals-repsol-sinopec-resources-uk-limited-2015.csv',\n",
       " 'data/government-totals-rio-tinto-plc-2015.csv',\n",
       " 'data/government-totals-royal-dutch-shell-plc-2015.csv',\n",
       " 'data/government-totals-soco-international-plc-2015.csv',\n",
       " 'data/government-totals-suncor-energy-uk-limited-2015.csv',\n",
       " 'data/government-totals-tethys-petroleum-limited-2015.csv',\n",
       " 'data/government-totals-trans-siberian-gold-plc-2015.csv',\n",
       " 'data/government-totals-tullow-oil-plc-2015.csv']"
      ]
     },
     "execution_count": 98,
     "metadata": {},
     "output_type": "execute_result"
    }
   ],
   "source": [
    "files_list = glob.glob('data/government-totals-*.csv')\n",
    "files_list"
   ]
  },
  {
   "cell_type": "markdown",
   "metadata": {},
   "source": [
    "### Using a `for` loop to combine all the files"
   ]
  },
  {
   "cell_type": "markdown",
   "metadata": {},
   "source": [
    "In coding, whenever we want the computer to repeatedly to something, we write a 'loop'.\n",
    "\n",
    "One of kinds of loops is called a 'for loop'. It tells Python to run a bunch of commands repeated 'for' all the items inside a list.\n",
    "\n",
    "Let's look at the code cell below to see how this is done.\n",
    "\n",
    "What we want to do is to combine all the data from the files we read in our folder. What we have now is a list with all the file names of the CSVs we want to combine, called `files_list`. So, we want to loop through that list of filenames, read each of those files as a DataFrame and store them in a seperate list of DataFrames.\n",
    "\n",
    "The first line declares a new varible `data_to_combine` to be a blank list, denoted as `[]`.\n",
    "\n",
    "Next is the actual for loop. There is a lot of guides on the internet ([such as this one](https://www.learnpython.org/en/Loops)) which will explain how loops in Python work, that you can refer to.\n",
    "\n",
    "Basically, `'for f in files_list:'` asks Python to loop through `files_list`, and for each thing in that list, we call it `f`, and we execute the code in the indented lines below the opening line of the for loop with `f` as the palceholder for the item in the list for that iteration of the loop. The `':'` is very important here, it tells Python that the lines that follows it are the chunk of code that we want to execute repeatedly.\n",
    "\n",
    "So, what are the things we are excuting repeatedly?\n",
    "\n",
    "`'f_data = pd.read_csv(f)'` tells Python to read the CSV file with the filename indicated by `'f'`, which in this case is `'data/government-totals-abu-dhabi-marine-areas-limited-2015.csv'` for the first iteration of the loop, `'data/government-totals-acacia-mining-plc-2015.csv'` for the second iteration, etc. The contents of each CSV file is assigned the variable `f-data`.\n",
    "\n",
    "`'data_to_combine.append(f_data)'` takes the contents of `f_data` and appends it to the new list `data_to_combine` (i.e. add it as a new item in the list), that we declared before the loop began.\n",
    "\n",
    "For the next iteration of the loop, another file indicated by a new `f` will be read into `f_data`, overwriting the data we read into it during the previous iteration. That new DataFrame will then be appended to `data_to_combine`, and so on and so forth until we reach the end of the `files_list`.\n",
    "\n",
    "After the loop has been executed, we call the `.concat()` function that we used earlier to combine three CSVs, but intead of three, we are now concatenating over 50 files.\n",
    "\n",
    "The last line is not essential, but it uses the `.reset_index()` function to renumber the rows of the big new combined DataFrame from 0, instead of having it restart for each set of rows corresponding to each file."
   ]
  },
  {
   "cell_type": "code",
   "execution_count": 100,
   "metadata": {
    "collapsed": false
   },
   "outputs": [],
   "source": [
    "data_to_combine = []\n",
    "\n",
    "for f in files_list:\n",
    "    f_data = pd.read_csv(f)\n",
    "    data_to_combine.append(f_data)\n",
    "    \n",
    "all_data = pd.concat(data_to_combine)\n",
    "all_data = all_data.reset_index()"
   ]
  },
  {
   "cell_type": "markdown",
   "metadata": {},
   "source": [
    "Now let's check out the first 5 and last 5 rows of our new DataFrame."
   ]
  },
  {
   "cell_type": "code",
   "execution_count": 28,
   "metadata": {
    "collapsed": false
   },
   "outputs": [
    {
     "data": {
      "text/html": [
       "<div>\n",
       "<table border=\"1\" class=\"dataframe\">\n",
       "  <thead>\n",
       "    <tr style=\"text-align: right;\">\n",
       "      <th></th>\n",
       "      <th>index</th>\n",
       "      <th>Government</th>\n",
       "      <th>CountryCode</th>\n",
       "      <th>Amount</th>\n",
       "      <th>Currency</th>\n",
       "      <th>CompanyName</th>\n",
       "      <th>CompanyNumber</th>\n",
       "      <th>ReportEndDate</th>\n",
       "      <th>Version</th>\n",
       "      <th>Notes</th>\n",
       "      <th>ReportName</th>\n",
       "      <th>ReportNotes</th>\n",
       "      <th>FilingDate</th>\n",
       "    </tr>\n",
       "  </thead>\n",
       "  <tbody>\n",
       "    <tr>\n",
       "      <th>0</th>\n",
       "      <td>0</td>\n",
       "      <td>Abu Dhabi Department of Finance</td>\n",
       "      <td>ARE</td>\n",
       "      <td>4180617326</td>\n",
       "      <td>USD</td>\n",
       "      <td>Abu Dhabi Marine Areas Limited</td>\n",
       "      <td>533446</td>\n",
       "      <td>2015-12-31</td>\n",
       "      <td>1</td>\n",
       "      <td>NaN</td>\n",
       "      <td>Government Payments</td>\n",
       "      <td>NaN</td>\n",
       "      <td>05 Oct 2016</td>\n",
       "    </tr>\n",
       "    <tr>\n",
       "      <th>1</th>\n",
       "      <td>0</td>\n",
       "      <td>Name for Tanzania National Recipient</td>\n",
       "      <td>TZA</td>\n",
       "      <td>124185000</td>\n",
       "      <td>USD</td>\n",
       "      <td>Acacia Mining PLC</td>\n",
       "      <td>7123187</td>\n",
       "      <td>2015-12-31</td>\n",
       "      <td>1</td>\n",
       "      <td>NaN</td>\n",
       "      <td>Extractives Report</td>\n",
       "      <td>NaN</td>\n",
       "      <td>06 Dec 2016</td>\n",
       "    </tr>\n",
       "    <tr>\n",
       "      <th>2</th>\n",
       "      <td>1</td>\n",
       "      <td>Name for Tanzania Local Dar es Salaam Recipient</td>\n",
       "      <td>TZA</td>\n",
       "      <td>2234000</td>\n",
       "      <td>USD</td>\n",
       "      <td>Acacia Mining PLC</td>\n",
       "      <td>7123187</td>\n",
       "      <td>2015-12-31</td>\n",
       "      <td>1</td>\n",
       "      <td>NaN</td>\n",
       "      <td>Extractives Report</td>\n",
       "      <td>NaN</td>\n",
       "      <td>06 Dec 2016</td>\n",
       "    </tr>\n",
       "    <tr>\n",
       "      <th>3</th>\n",
       "      <td>2</td>\n",
       "      <td>Name for Kenya National Recipient</td>\n",
       "      <td>KEN</td>\n",
       "      <td>644000</td>\n",
       "      <td>USD</td>\n",
       "      <td>Acacia Mining PLC</td>\n",
       "      <td>7123187</td>\n",
       "      <td>2015-12-31</td>\n",
       "      <td>1</td>\n",
       "      <td>NaN</td>\n",
       "      <td>Extractives Report</td>\n",
       "      <td>NaN</td>\n",
       "      <td>06 Dec 2016</td>\n",
       "    </tr>\n",
       "    <tr>\n",
       "      <th>4</th>\n",
       "      <td>3</td>\n",
       "      <td>Name for South Africa National Recipient</td>\n",
       "      <td>ZAF</td>\n",
       "      <td>1013000</td>\n",
       "      <td>USD</td>\n",
       "      <td>Acacia Mining PLC</td>\n",
       "      <td>7123187</td>\n",
       "      <td>2015-12-31</td>\n",
       "      <td>1</td>\n",
       "      <td>NaN</td>\n",
       "      <td>Extractives Report</td>\n",
       "      <td>NaN</td>\n",
       "      <td>06 Dec 2016</td>\n",
       "    </tr>\n",
       "  </tbody>\n",
       "</table>\n",
       "</div>"
      ],
      "text/plain": [
       "   index                                       Government CountryCode  \\\n",
       "0      0                  Abu Dhabi Department of Finance         ARE   \n",
       "1      0             Name for Tanzania National Recipient         TZA   \n",
       "2      1  Name for Tanzania Local Dar es Salaam Recipient         TZA   \n",
       "3      2                Name for Kenya National Recipient         KEN   \n",
       "4      3         Name for South Africa National Recipient         ZAF   \n",
       "\n",
       "       Amount Currency                     CompanyName CompanyNumber  \\\n",
       "0  4180617326      USD  Abu Dhabi Marine Areas Limited        533446   \n",
       "1   124185000      USD               Acacia Mining PLC       7123187   \n",
       "2     2234000      USD               Acacia Mining PLC       7123187   \n",
       "3      644000      USD               Acacia Mining PLC       7123187   \n",
       "4     1013000      USD               Acacia Mining PLC       7123187   \n",
       "\n",
       "  ReportEndDate  Version Notes           ReportName ReportNotes   FilingDate  \n",
       "0    2015-12-31        1   NaN  Government Payments         NaN  05 Oct 2016  \n",
       "1    2015-12-31        1   NaN   Extractives Report         NaN  06 Dec 2016  \n",
       "2    2015-12-31        1   NaN   Extractives Report         NaN  06 Dec 2016  \n",
       "3    2015-12-31        1   NaN   Extractives Report         NaN  06 Dec 2016  \n",
       "4    2015-12-31        1   NaN   Extractives Report         NaN  06 Dec 2016  "
      ]
     },
     "execution_count": 28,
     "metadata": {},
     "output_type": "execute_result"
    }
   ],
   "source": [
    "all_data.head()"
   ]
  },
  {
   "cell_type": "code",
   "execution_count": 29,
   "metadata": {
    "collapsed": false
   },
   "outputs": [
    {
     "data": {
      "text/html": [
       "<div>\n",
       "<table border=\"1\" class=\"dataframe\">\n",
       "  <thead>\n",
       "    <tr style=\"text-align: right;\">\n",
       "      <th></th>\n",
       "      <th>index</th>\n",
       "      <th>Government</th>\n",
       "      <th>CountryCode</th>\n",
       "      <th>Amount</th>\n",
       "      <th>Currency</th>\n",
       "      <th>CompanyName</th>\n",
       "      <th>CompanyNumber</th>\n",
       "      <th>ReportEndDate</th>\n",
       "      <th>Version</th>\n",
       "      <th>Notes</th>\n",
       "      <th>ReportName</th>\n",
       "      <th>ReportNotes</th>\n",
       "      <th>FilingDate</th>\n",
       "    </tr>\n",
       "  </thead>\n",
       "  <tbody>\n",
       "    <tr>\n",
       "      <th>637</th>\n",
       "      <td>27</td>\n",
       "      <td>South African Revenue Services</td>\n",
       "      <td>ZAF</td>\n",
       "      <td>505034</td>\n",
       "      <td>USD</td>\n",
       "      <td>Tullow Oil PLC</td>\n",
       "      <td>3919249</td>\n",
       "      <td>2015-12-31</td>\n",
       "      <td>1</td>\n",
       "      <td>NaN</td>\n",
       "      <td>Extractives Report</td>\n",
       "      <td>NaN</td>\n",
       "      <td>28 Nov 2016</td>\n",
       "    </tr>\n",
       "    <tr>\n",
       "      <th>638</th>\n",
       "      <td>28</td>\n",
       "      <td>Suriname - Payment made to 3rd party</td>\n",
       "      <td>SUR</td>\n",
       "      <td>515378</td>\n",
       "      <td>USD</td>\n",
       "      <td>Tullow Oil PLC</td>\n",
       "      <td>3919249</td>\n",
       "      <td>2015-12-31</td>\n",
       "      <td>1</td>\n",
       "      <td>NaN</td>\n",
       "      <td>Extractives Report</td>\n",
       "      <td>NaN</td>\n",
       "      <td>28 Nov 2016</td>\n",
       "    </tr>\n",
       "    <tr>\n",
       "      <th>639</th>\n",
       "      <td>29</td>\n",
       "      <td>The Republic of Cote d’Ivoire, Ministry of Min...</td>\n",
       "      <td>CIV</td>\n",
       "      <td>273751</td>\n",
       "      <td>USD</td>\n",
       "      <td>Tullow Oil PLC</td>\n",
       "      <td>3919249</td>\n",
       "      <td>2015-12-31</td>\n",
       "      <td>1</td>\n",
       "      <td>NaN</td>\n",
       "      <td>Extractives Report</td>\n",
       "      <td>NaN</td>\n",
       "      <td>28 Nov 2016</td>\n",
       "    </tr>\n",
       "    <tr>\n",
       "      <th>640</th>\n",
       "      <td>30</td>\n",
       "      <td>Uganda Revenue Authority</td>\n",
       "      <td>UGA</td>\n",
       "      <td>36058521</td>\n",
       "      <td>USD</td>\n",
       "      <td>Tullow Oil PLC</td>\n",
       "      <td>3919249</td>\n",
       "      <td>2015-12-31</td>\n",
       "      <td>1</td>\n",
       "      <td>NaN</td>\n",
       "      <td>Extractives Report</td>\n",
       "      <td>NaN</td>\n",
       "      <td>28 Nov 2016</td>\n",
       "    </tr>\n",
       "    <tr>\n",
       "      <th>641</th>\n",
       "      <td>31</td>\n",
       "      <td>Petroleum Corporation of Jamaica</td>\n",
       "      <td>JAM</td>\n",
       "      <td>128261</td>\n",
       "      <td>USD</td>\n",
       "      <td>Tullow Oil PLC</td>\n",
       "      <td>3919249</td>\n",
       "      <td>2015-12-31</td>\n",
       "      <td>1</td>\n",
       "      <td>NaN</td>\n",
       "      <td>Extractives Report</td>\n",
       "      <td>NaN</td>\n",
       "      <td>28 Nov 2016</td>\n",
       "    </tr>\n",
       "  </tbody>\n",
       "</table>\n",
       "</div>"
      ],
      "text/plain": [
       "     index                                         Government CountryCode  \\\n",
       "637     27                     South African Revenue Services         ZAF   \n",
       "638     28               Suriname - Payment made to 3rd party         SUR   \n",
       "639     29  The Republic of Cote d’Ivoire, Ministry of Min...         CIV   \n",
       "640     30                           Uganda Revenue Authority         UGA   \n",
       "641     31                   Petroleum Corporation of Jamaica         JAM   \n",
       "\n",
       "       Amount Currency     CompanyName CompanyNumber ReportEndDate  Version  \\\n",
       "637    505034      USD  Tullow Oil PLC       3919249    2015-12-31        1   \n",
       "638    515378      USD  Tullow Oil PLC       3919249    2015-12-31        1   \n",
       "639    273751      USD  Tullow Oil PLC       3919249    2015-12-31        1   \n",
       "640  36058521      USD  Tullow Oil PLC       3919249    2015-12-31        1   \n",
       "641    128261      USD  Tullow Oil PLC       3919249    2015-12-31        1   \n",
       "\n",
       "    Notes          ReportName ReportNotes   FilingDate  \n",
       "637   NaN  Extractives Report         NaN  28 Nov 2016  \n",
       "638   NaN  Extractives Report         NaN  28 Nov 2016  \n",
       "639   NaN  Extractives Report         NaN  28 Nov 2016  \n",
       "640   NaN  Extractives Report         NaN  28 Nov 2016  \n",
       "641   NaN  Extractives Report         NaN  28 Nov 2016  "
      ]
     },
     "execution_count": 29,
     "metadata": {},
     "output_type": "execute_result"
    }
   ],
   "source": [
    "all_data.tail()"
   ]
  },
  {
   "cell_type": "markdown",
   "metadata": {},
   "source": [
    "We have 641 rows in total!"
   ]
  },
  {
   "cell_type": "markdown",
   "metadata": {},
   "source": [
    "Just like we plotted the payments to Australia by the three companies in the previous section, let's make another chart that shows total payments received by each country from all the companies.\n",
    "\n",
    "We make a pivot table just as before, but pivoting just on `'CountryCode'` and not both `'CountryCode'` and `'CompanyName'` like we did previously."
   ]
  },
  {
   "cell_type": "code",
   "execution_count": 103,
   "metadata": {
    "collapsed": false
   },
   "outputs": [
    {
     "data": {
      "text/plain": [
       "CountryCode\n",
       "ARE    4180617326\n",
       "ARG      64443545\n",
       "AUS    7365135531\n",
       "AZE      11540480\n",
       "BEL       5752743\n",
       "Name: Amount, dtype: int64"
      ]
     },
     "execution_count": 103,
     "metadata": {},
     "output_type": "execute_result"
    }
   ],
   "source": [
    "country_totals = all_data.pivot_table(index=['CountryCode'], aggfunc='sum')\n",
    "country_totals_amounts = country_totals['Amount']\n",
    "country_totals_amounts.head()"
   ]
  },
  {
   "cell_type": "markdown",
   "metadata": {},
   "source": [
    "Since there are a lot of values in the pivot table, let's sort them so that the resulting bar chart will look nicer instead of all jagged. To do that we use the `.sort_values()` function with the argument for `ascending` equal to `1`."
   ]
  },
  {
   "cell_type": "code",
   "execution_count": 104,
   "metadata": {
    "collapsed": false
   },
   "outputs": [
    {
     "data": {
      "text/plain": [
       "CountryCode\n",
       "NLD   -6777569\n",
       "HKG        145\n",
       "MOZ        830\n",
       "KGZ       1574\n",
       "SEN     107055\n",
       "Name: Amount, dtype: int64"
      ]
     },
     "execution_count": 104,
     "metadata": {},
     "output_type": "execute_result"
    }
   ],
   "source": [
    "country_totals_amounts = country_totals_amounts.sort_values(ascending=1)\n",
    "country_totals_amounts.head()"
   ]
  },
  {
   "cell_type": "markdown",
   "metadata": {},
   "source": [
    "And here we have the chart! The only difference this time is that we are plotting a horizontal bar chart instead of a vertical one, and so we specify the argument for `kind` as `kind='barh'` instead of `kind='bar'`."
   ]
  },
  {
   "cell_type": "code",
   "execution_count": 32,
   "metadata": {
    "collapsed": false,
    "scrolled": false
   },
   "outputs": [
    {
     "data": {
      "image/png": "[encoded data removed]",
      "text/plain": [
       "<matplotlib.figure.Figure at 0x107865cd0>"
      ]
     },
     "metadata": {},
     "output_type": "display_data"
    }
   ],
   "source": [
    "ax = country_totals_amounts.plot(kind='barh', title =\"Payment Totals by Country\", figsize=(10,30),legend=True, fontsize=12)"
   ]
  },
  {
   "cell_type": "markdown",
   "metadata": {
    "collapsed": true
   },
   "source": [
    "### Done!\n",
    "\n",
    "This concludes this initial tutorial on working with extractives data in Python and Pandas. I hope you have gotten a basic idea of the power of using Python scripting to wrangle and analyse data. In future tutorials we will dig into more specific topics and do more meaningful explorations of extractives data!"
   ]
  },
  {
   "cell_type": "code",
   "execution_count": null,
   "metadata": {
    "collapsed": true
   },
   "outputs": [],
   "source": []
  }
 ],
 "metadata": {
  "kernelspec": {
   "display_name": "Python 2",
   "language": "python",
   "name": "python2"
  },
  "language_info": {
   "codemirror_mode": {
    "name": "ipython",
    "version": 2
   },
   "file_extension": ".py",
   "mimetype": "text/x-python",
   "name": "python",
   "nbconvert_exporter": "python",
   "pygments_lexer": "ipython2",
   "version": "2.7.10"
  }
 },
 "nbformat": 4,
 "nbformat_minor": 1
}
